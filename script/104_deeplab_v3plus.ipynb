{
 "cells": [
  {
   "cell_type": "code",
   "execution_count": 1,
   "metadata": {},
   "outputs": [],
   "source": [
    "import sys\n",
    "sys.path.append('../')\n",
    "\n",
    "import numpy as np\n",
    "import pandas as pd\n",
    "from matplotlib import pyplot as plt\n",
    "import cv2\n",
    "from tqdm import tqdm_notebook\n",
    "import pickle\n",
    "import os\n",
    "import logging\n",
    "import time\n",
    "from IPython.core.debugger import set_trace\n",
    "\n",
    "import torch\n",
    "import torch.nn as nn\n",
    "import torch.nn.functional as F\n",
    "\n",
    "from dataset.mask_functions import rle2mask, mask2rle\n",
    "from dataset.dataset import prepare_trainset\n",
    "from utils.utils import save_checkpoint, load_checkpoint, set_logger\n",
    "from utils.gpu_utils import set_n_get_device\n",
    "\n",
    "#from model.deeplab_model_kaggler.deeplab import DeepLab\n",
    "#from model.model_unet_classify_zero import UNetResNet34 as ZeroMaskClassifier\n",
    "#from model.CSAILVision.models.models import SegmentationModule\n",
    "#from model.model_unet import UNetResNet34\n",
    "#from model.model_plain_unet import UNetResNet34\n",
    "#from model.model_resnet_fpn import FPNResNet34\n",
    "from model.deeplab_model_kaggler.lr_scheduler import LR_Scheduler\n",
    "\n",
    "import segmentation_models_pytorch as smp\n",
    "\n",
    "%matplotlib inline"
   ]
  },
  {
   "cell_type": "code",
   "execution_count": 2,
   "metadata": {},
   "outputs": [
    {
     "name": "stdout",
     "output_type": "stream",
     "text": [
      "====MODEL ACHITECTURE: b3====\n"
     ]
    }
   ],
   "source": [
    "######### Config the training process #########\n",
    "#device = set_n_get_device(\"0, 1, 2, 3\", data_device_id=\"cuda:0\")#0, 1, 2, 3, IMPORTANT: data_device_id is set to free gpu for storing the model, e.g.\"cuda:1\"\n",
    "MODEL = 'b3'\n",
    "#AUX_LOGITS = True#False, only for 'INCEPTION_V3'\n",
    "print('====MODEL ACHITECTURE: %s===='%MODEL)\n",
    "\n",
    "device = set_n_get_device(\"2\", data_device_id=\"cuda:0\")#0, 1, 2, 3, IMPORTANT: data_device_id is set to free gpu for storing the model, e.g.\"cuda:1\"\n",
    "multi_gpu = None #None#[0, 1]#use 2 gpus\n",
    "\n",
    "SEED = 1234 #5678#4567#3456#2345#1234\n",
    "debug = True# if True, load 100 samples\n",
    "IMG_SIZE = (512, 768)\n",
    "BATCH_SIZE = 4\n",
    "NUM_WORKERS = 24\n",
    "torch.cuda.manual_seed_all(SEED)"
   ]
  },
  {
   "cell_type": "markdown",
   "metadata": {},
   "source": [
    "## the dataset"
   ]
  },
  {
   "cell_type": "code",
   "execution_count": 6,
   "metadata": {},
   "outputs": [
    {
     "name": "stdout",
     "output_type": "stream",
     "text": [
      "Count images in train/test folder:  5546 3698\n",
      "Count of trainset (for training):  942\n",
      "Count of validset (for training):  166\n"
     ]
    }
   ],
   "source": [
    "train_dl, val_dl = prepare_trainset(BATCH_SIZE, NUM_WORKERS, SEED, IMG_SIZE, debug)"
   ]
  },
  {
   "cell_type": "code",
   "execution_count": 7,
   "metadata": {},
   "outputs": [],
   "source": [
    "for i, (images, masks) in enumerate(train_dl):\n",
    "    images = images.to(device=device, dtype=torch.float)\n",
    "    masks = masks.to(device=device, dtype=torch.float)\n",
    "    #labels = (torch.sum(masks.reshape(masks.size()[0], -1), dim=1, keepdim=True)==0).to(device=device, dtype=torch.float) #1 for non-zero-mask\n",
    "    if i==0:\n",
    "        break"
   ]
  },
  {
   "cell_type": "code",
   "execution_count": 8,
   "metadata": {},
   "outputs": [
    {
     "data": {
      "text/plain": [
       "(torch.Size([4, 1, 512, 768]), torch.Size([4, 4, 512, 768]))"
      ]
     },
     "execution_count": 8,
     "metadata": {},
     "output_type": "execute_result"
    }
   ],
   "source": [
    "images.size(), masks.size()#, labels.size()"
   ]
  },
  {
   "cell_type": "code",
   "execution_count": null,
   "metadata": {},
   "outputs": [],
   "source": []
  },
  {
   "cell_type": "markdown",
   "metadata": {},
   "source": [
    "## the model"
   ]
  },
  {
   "cell_type": "code",
   "execution_count": 4,
   "metadata": {},
   "outputs": [
    {
     "name": "stderr",
     "output_type": "stream",
     "text": [
      "Downloading: \"http://storage.googleapis.com/public-models/efficientnet/efficientnet-b3-5fb5a3c3.pth\" to /home/endi.niu/.cache/torch/checkpoints/efficientnet-b3-5fb5a3c3.pth\n",
      "100%|██████████| 49388949/49388949 [00:02<00:00, 19715146.27it/s]\n"
     ]
    }
   ],
   "source": [
    "# net = DeepLab(num_classes=4,\n",
    "#               backbone=MODEL,#resnet34, resnet101\n",
    "#               output_stride=16,#default 16, 8\n",
    "#               sync_bn=None,\n",
    "#               freeze_bn=False,\n",
    "#               debug=True\n",
    "#              ).cuda(device=device)\n",
    "\n",
    "#net = SegmentationModule(net_enc='resnet50', net_dec='upernet').cuda(device=device)\n",
    "#net = SegmentationModule(net_enc='hrnetv2', net_dec='c1').cuda(device=device)\n",
    "\n",
    "#net = UNetResNet34(debug=True).cuda(device=device)\n",
    "#net = FPNResNet34(debug=debug).cuda(device=device)\n",
    "\n",
    "#net = smp.PSPNet(encoder_name='resnet34', classes=4, activation=None)\n",
    "net = smp.Unet(encoder_name='efficientnet-b3', \n",
    "         encoder_weights='imagenet', \n",
    "         classes=4,\n",
    "         activation=None,\n",
    "         center=True)\n",
    "\n",
    "#checkpoint_path = 'checkpoint/UNetResNet34_512_v1_seed3456/best.pth.tar'\n",
    "#net, _ = load_checkpoint(checkpoint_path, net)\n",
    "\n",
    "if multi_gpu is not None:\n",
    "    net = nn.DataParallel(net, device_ids=multi_gpu)"
   ]
  },
  {
   "cell_type": "code",
   "execution_count": 5,
   "metadata": {},
   "outputs": [
    {
     "name": "stdout",
     "output_type": "stream",
     "text": [
      "encoder._conv_stem.weight\n",
      "encoder._bn0.weight\n",
      "encoder._bn0.bias\n",
      "encoder._blocks.0._depthwise_conv.weight\n",
      "encoder._blocks.0._bn1.weight\n",
      "encoder._blocks.0._bn1.bias\n",
      "encoder._blocks.0._se_reduce.weight\n",
      "encoder._blocks.0._se_reduce.bias\n",
      "encoder._blocks.0._se_expand.weight\n",
      "encoder._blocks.0._se_expand.bias\n",
      "encoder._blocks.0._project_conv.weight\n",
      "encoder._blocks.0._bn2.weight\n",
      "encoder._blocks.0._bn2.bias\n",
      "encoder._blocks.1._depthwise_conv.weight\n",
      "encoder._blocks.1._bn1.weight\n",
      "encoder._blocks.1._bn1.bias\n",
      "encoder._blocks.1._se_reduce.weight\n",
      "encoder._blocks.1._se_reduce.bias\n",
      "encoder._blocks.1._se_expand.weight\n",
      "encoder._blocks.1._se_expand.bias\n",
      "encoder._blocks.1._project_conv.weight\n",
      "encoder._blocks.1._bn2.weight\n",
      "encoder._blocks.1._bn2.bias\n",
      "encoder._blocks.2._expand_conv.weight\n",
      "encoder._blocks.2._bn0.weight\n",
      "encoder._blocks.2._bn0.bias\n",
      "encoder._blocks.2._depthwise_conv.weight\n",
      "encoder._blocks.2._bn1.weight\n",
      "encoder._blocks.2._bn1.bias\n",
      "encoder._blocks.2._se_reduce.weight\n",
      "encoder._blocks.2._se_reduce.bias\n",
      "encoder._blocks.2._se_expand.weight\n",
      "encoder._blocks.2._se_expand.bias\n",
      "encoder._blocks.2._project_conv.weight\n",
      "encoder._blocks.2._bn2.weight\n",
      "encoder._blocks.2._bn2.bias\n",
      "encoder._blocks.3._expand_conv.weight\n",
      "encoder._blocks.3._bn0.weight\n",
      "encoder._blocks.3._bn0.bias\n",
      "encoder._blocks.3._depthwise_conv.weight\n",
      "encoder._blocks.3._bn1.weight\n",
      "encoder._blocks.3._bn1.bias\n",
      "encoder._blocks.3._se_reduce.weight\n",
      "encoder._blocks.3._se_reduce.bias\n",
      "encoder._blocks.3._se_expand.weight\n",
      "encoder._blocks.3._se_expand.bias\n",
      "encoder._blocks.3._project_conv.weight\n",
      "encoder._blocks.3._bn2.weight\n",
      "encoder._blocks.3._bn2.bias\n",
      "encoder._blocks.4._expand_conv.weight\n",
      "encoder._blocks.4._bn0.weight\n",
      "encoder._blocks.4._bn0.bias\n",
      "encoder._blocks.4._depthwise_conv.weight\n",
      "encoder._blocks.4._bn1.weight\n",
      "encoder._blocks.4._bn1.bias\n",
      "encoder._blocks.4._se_reduce.weight\n",
      "encoder._blocks.4._se_reduce.bias\n",
      "encoder._blocks.4._se_expand.weight\n",
      "encoder._blocks.4._se_expand.bias\n",
      "encoder._blocks.4._project_conv.weight\n",
      "encoder._blocks.4._bn2.weight\n",
      "encoder._blocks.4._bn2.bias\n",
      "encoder._blocks.5._expand_conv.weight\n",
      "encoder._blocks.5._bn0.weight\n",
      "encoder._blocks.5._bn0.bias\n",
      "encoder._blocks.5._depthwise_conv.weight\n",
      "encoder._blocks.5._bn1.weight\n",
      "encoder._blocks.5._bn1.bias\n",
      "encoder._blocks.5._se_reduce.weight\n",
      "encoder._blocks.5._se_reduce.bias\n",
      "encoder._blocks.5._se_expand.weight\n",
      "encoder._blocks.5._se_expand.bias\n",
      "encoder._blocks.5._project_conv.weight\n",
      "encoder._blocks.5._bn2.weight\n",
      "encoder._blocks.5._bn2.bias\n",
      "encoder._blocks.6._expand_conv.weight\n",
      "encoder._blocks.6._bn0.weight\n",
      "encoder._blocks.6._bn0.bias\n",
      "encoder._blocks.6._depthwise_conv.weight\n",
      "encoder._blocks.6._bn1.weight\n",
      "encoder._blocks.6._bn1.bias\n",
      "encoder._blocks.6._se_reduce.weight\n",
      "encoder._blocks.6._se_reduce.bias\n",
      "encoder._blocks.6._se_expand.weight\n",
      "encoder._blocks.6._se_expand.bias\n",
      "encoder._blocks.6._project_conv.weight\n",
      "encoder._blocks.6._bn2.weight\n",
      "encoder._blocks.6._bn2.bias\n",
      "encoder._blocks.7._expand_conv.weight\n",
      "encoder._blocks.7._bn0.weight\n",
      "encoder._blocks.7._bn0.bias\n",
      "encoder._blocks.7._depthwise_conv.weight\n",
      "encoder._blocks.7._bn1.weight\n",
      "encoder._blocks.7._bn1.bias\n",
      "encoder._blocks.7._se_reduce.weight\n",
      "encoder._blocks.7._se_reduce.bias\n",
      "encoder._blocks.7._se_expand.weight\n",
      "encoder._blocks.7._se_expand.bias\n",
      "encoder._blocks.7._project_conv.weight\n",
      "encoder._blocks.7._bn2.weight\n",
      "encoder._blocks.7._bn2.bias\n",
      "encoder._blocks.8._expand_conv.weight\n",
      "encoder._blocks.8._bn0.weight\n",
      "encoder._blocks.8._bn0.bias\n",
      "encoder._blocks.8._depthwise_conv.weight\n",
      "encoder._blocks.8._bn1.weight\n",
      "encoder._blocks.8._bn1.bias\n",
      "encoder._blocks.8._se_reduce.weight\n",
      "encoder._blocks.8._se_reduce.bias\n",
      "encoder._blocks.8._se_expand.weight\n",
      "encoder._blocks.8._se_expand.bias\n",
      "encoder._blocks.8._project_conv.weight\n",
      "encoder._blocks.8._bn2.weight\n",
      "encoder._blocks.8._bn2.bias\n",
      "encoder._blocks.9._expand_conv.weight\n",
      "encoder._blocks.9._bn0.weight\n",
      "encoder._blocks.9._bn0.bias\n",
      "encoder._blocks.9._depthwise_conv.weight\n",
      "encoder._blocks.9._bn1.weight\n",
      "encoder._blocks.9._bn1.bias\n",
      "encoder._blocks.9._se_reduce.weight\n",
      "encoder._blocks.9._se_reduce.bias\n",
      "encoder._blocks.9._se_expand.weight\n",
      "encoder._blocks.9._se_expand.bias\n",
      "encoder._blocks.9._project_conv.weight\n",
      "encoder._blocks.9._bn2.weight\n",
      "encoder._blocks.9._bn2.bias\n",
      "encoder._blocks.10._expand_conv.weight\n",
      "encoder._blocks.10._bn0.weight\n",
      "encoder._blocks.10._bn0.bias\n",
      "encoder._blocks.10._depthwise_conv.weight\n",
      "encoder._blocks.10._bn1.weight\n",
      "encoder._blocks.10._bn1.bias\n",
      "encoder._blocks.10._se_reduce.weight\n",
      "encoder._blocks.10._se_reduce.bias\n",
      "encoder._blocks.10._se_expand.weight\n",
      "encoder._blocks.10._se_expand.bias\n",
      "encoder._blocks.10._project_conv.weight\n",
      "encoder._blocks.10._bn2.weight\n",
      "encoder._blocks.10._bn2.bias\n",
      "encoder._blocks.11._expand_conv.weight\n",
      "encoder._blocks.11._bn0.weight\n",
      "encoder._blocks.11._bn0.bias\n",
      "encoder._blocks.11._depthwise_conv.weight\n",
      "encoder._blocks.11._bn1.weight\n",
      "encoder._blocks.11._bn1.bias\n",
      "encoder._blocks.11._se_reduce.weight\n",
      "encoder._blocks.11._se_reduce.bias\n",
      "encoder._blocks.11._se_expand.weight\n",
      "encoder._blocks.11._se_expand.bias\n",
      "encoder._blocks.11._project_conv.weight\n",
      "encoder._blocks.11._bn2.weight\n",
      "encoder._blocks.11._bn2.bias\n",
      "encoder._blocks.12._expand_conv.weight\n",
      "encoder._blocks.12._bn0.weight\n",
      "encoder._blocks.12._bn0.bias\n",
      "encoder._blocks.12._depthwise_conv.weight\n",
      "encoder._blocks.12._bn1.weight\n",
      "encoder._blocks.12._bn1.bias\n",
      "encoder._blocks.12._se_reduce.weight\n",
      "encoder._blocks.12._se_reduce.bias\n",
      "encoder._blocks.12._se_expand.weight\n",
      "encoder._blocks.12._se_expand.bias\n",
      "encoder._blocks.12._project_conv.weight\n",
      "encoder._blocks.12._bn2.weight\n",
      "encoder._blocks.12._bn2.bias\n",
      "encoder._blocks.13._expand_conv.weight\n",
      "encoder._blocks.13._bn0.weight\n",
      "encoder._blocks.13._bn0.bias\n",
      "encoder._blocks.13._depthwise_conv.weight\n",
      "encoder._blocks.13._bn1.weight\n",
      "encoder._blocks.13._bn1.bias\n",
      "encoder._blocks.13._se_reduce.weight\n",
      "encoder._blocks.13._se_reduce.bias\n",
      "encoder._blocks.13._se_expand.weight\n",
      "encoder._blocks.13._se_expand.bias\n",
      "encoder._blocks.13._project_conv.weight\n",
      "encoder._blocks.13._bn2.weight\n",
      "encoder._blocks.13._bn2.bias\n",
      "encoder._blocks.14._expand_conv.weight\n",
      "encoder._blocks.14._bn0.weight\n",
      "encoder._blocks.14._bn0.bias\n",
      "encoder._blocks.14._depthwise_conv.weight\n",
      "encoder._blocks.14._bn1.weight\n",
      "encoder._blocks.14._bn1.bias\n",
      "encoder._blocks.14._se_reduce.weight\n",
      "encoder._blocks.14._se_reduce.bias\n",
      "encoder._blocks.14._se_expand.weight\n",
      "encoder._blocks.14._se_expand.bias\n",
      "encoder._blocks.14._project_conv.weight\n",
      "encoder._blocks.14._bn2.weight\n",
      "encoder._blocks.14._bn2.bias\n",
      "encoder._blocks.15._expand_conv.weight\n",
      "encoder._blocks.15._bn0.weight\n",
      "encoder._blocks.15._bn0.bias\n",
      "encoder._blocks.15._depthwise_conv.weight\n",
      "encoder._blocks.15._bn1.weight\n",
      "encoder._blocks.15._bn1.bias\n",
      "encoder._blocks.15._se_reduce.weight\n",
      "encoder._blocks.15._se_reduce.bias\n",
      "encoder._blocks.15._se_expand.weight\n",
      "encoder._blocks.15._se_expand.bias\n",
      "encoder._blocks.15._project_conv.weight\n",
      "encoder._blocks.15._bn2.weight\n",
      "encoder._blocks.15._bn2.bias\n",
      "encoder._blocks.16._expand_conv.weight\n",
      "encoder._blocks.16._bn0.weight\n",
      "encoder._blocks.16._bn0.bias\n",
      "encoder._blocks.16._depthwise_conv.weight\n",
      "encoder._blocks.16._bn1.weight\n",
      "encoder._blocks.16._bn1.bias\n",
      "encoder._blocks.16._se_reduce.weight\n",
      "encoder._blocks.16._se_reduce.bias\n",
      "encoder._blocks.16._se_expand.weight\n",
      "encoder._blocks.16._se_expand.bias\n",
      "encoder._blocks.16._project_conv.weight\n",
      "encoder._blocks.16._bn2.weight\n",
      "encoder._blocks.16._bn2.bias\n",
      "encoder._blocks.17._expand_conv.weight\n",
      "encoder._blocks.17._bn0.weight\n",
      "encoder._blocks.17._bn0.bias\n",
      "encoder._blocks.17._depthwise_conv.weight\n",
      "encoder._blocks.17._bn1.weight\n",
      "encoder._blocks.17._bn1.bias\n",
      "encoder._blocks.17._se_reduce.weight\n",
      "encoder._blocks.17._se_reduce.bias\n",
      "encoder._blocks.17._se_expand.weight\n",
      "encoder._blocks.17._se_expand.bias\n",
      "encoder._blocks.17._project_conv.weight\n",
      "encoder._blocks.17._bn2.weight\n",
      "encoder._blocks.17._bn2.bias\n",
      "encoder._blocks.18._expand_conv.weight\n",
      "encoder._blocks.18._bn0.weight\n",
      "encoder._blocks.18._bn0.bias\n",
      "encoder._blocks.18._depthwise_conv.weight\n",
      "encoder._blocks.18._bn1.weight\n",
      "encoder._blocks.18._bn1.bias\n",
      "encoder._blocks.18._se_reduce.weight\n",
      "encoder._blocks.18._se_reduce.bias\n",
      "encoder._blocks.18._se_expand.weight\n",
      "encoder._blocks.18._se_expand.bias\n",
      "encoder._blocks.18._project_conv.weight\n",
      "encoder._blocks.18._bn2.weight\n",
      "encoder._blocks.18._bn2.bias\n",
      "encoder._blocks.19._expand_conv.weight\n",
      "encoder._blocks.19._bn0.weight\n",
      "encoder._blocks.19._bn0.bias\n",
      "encoder._blocks.19._depthwise_conv.weight\n",
      "encoder._blocks.19._bn1.weight\n",
      "encoder._blocks.19._bn1.bias\n",
      "encoder._blocks.19._se_reduce.weight\n",
      "encoder._blocks.19._se_reduce.bias\n",
      "encoder._blocks.19._se_expand.weight\n",
      "encoder._blocks.19._se_expand.bias\n",
      "encoder._blocks.19._project_conv.weight\n",
      "encoder._blocks.19._bn2.weight\n",
      "encoder._blocks.19._bn2.bias\n",
      "encoder._blocks.20._expand_conv.weight\n",
      "encoder._blocks.20._bn0.weight\n",
      "encoder._blocks.20._bn0.bias\n",
      "encoder._blocks.20._depthwise_conv.weight\n",
      "encoder._blocks.20._bn1.weight\n",
      "encoder._blocks.20._bn1.bias\n",
      "encoder._blocks.20._se_reduce.weight\n",
      "encoder._blocks.20._se_reduce.bias\n",
      "encoder._blocks.20._se_expand.weight\n",
      "encoder._blocks.20._se_expand.bias\n",
      "encoder._blocks.20._project_conv.weight\n",
      "encoder._blocks.20._bn2.weight\n",
      "encoder._blocks.20._bn2.bias\n",
      "encoder._blocks.21._expand_conv.weight\n",
      "encoder._blocks.21._bn0.weight\n",
      "encoder._blocks.21._bn0.bias\n",
      "encoder._blocks.21._depthwise_conv.weight\n",
      "encoder._blocks.21._bn1.weight\n",
      "encoder._blocks.21._bn1.bias\n",
      "encoder._blocks.21._se_reduce.weight\n",
      "encoder._blocks.21._se_reduce.bias\n",
      "encoder._blocks.21._se_expand.weight\n",
      "encoder._blocks.21._se_expand.bias\n",
      "encoder._blocks.21._project_conv.weight\n",
      "encoder._blocks.21._bn2.weight\n",
      "encoder._blocks.21._bn2.bias\n",
      "encoder._blocks.22._expand_conv.weight\n",
      "encoder._blocks.22._bn0.weight\n",
      "encoder._blocks.22._bn0.bias\n",
      "encoder._blocks.22._depthwise_conv.weight\n",
      "encoder._blocks.22._bn1.weight\n",
      "encoder._blocks.22._bn1.bias\n",
      "encoder._blocks.22._se_reduce.weight\n",
      "encoder._blocks.22._se_reduce.bias\n",
      "encoder._blocks.22._se_expand.weight\n",
      "encoder._blocks.22._se_expand.bias\n",
      "encoder._blocks.22._project_conv.weight\n",
      "encoder._blocks.22._bn2.weight\n",
      "encoder._blocks.22._bn2.bias\n",
      "encoder._blocks.23._expand_conv.weight\n",
      "encoder._blocks.23._bn0.weight\n",
      "encoder._blocks.23._bn0.bias\n",
      "encoder._blocks.23._depthwise_conv.weight\n",
      "encoder._blocks.23._bn1.weight\n",
      "encoder._blocks.23._bn1.bias\n",
      "encoder._blocks.23._se_reduce.weight\n",
      "encoder._blocks.23._se_reduce.bias\n",
      "encoder._blocks.23._se_expand.weight\n",
      "encoder._blocks.23._se_expand.bias\n",
      "encoder._blocks.23._project_conv.weight\n",
      "encoder._blocks.23._bn2.weight\n",
      "encoder._blocks.23._bn2.bias\n",
      "encoder._blocks.24._expand_conv.weight\n",
      "encoder._blocks.24._bn0.weight\n",
      "encoder._blocks.24._bn0.bias\n",
      "encoder._blocks.24._depthwise_conv.weight\n",
      "encoder._blocks.24._bn1.weight\n",
      "encoder._blocks.24._bn1.bias\n",
      "encoder._blocks.24._se_reduce.weight\n",
      "encoder._blocks.24._se_reduce.bias\n",
      "encoder._blocks.24._se_expand.weight\n",
      "encoder._blocks.24._se_expand.bias\n",
      "encoder._blocks.24._project_conv.weight\n",
      "encoder._blocks.24._bn2.weight\n",
      "encoder._blocks.24._bn2.bias\n",
      "encoder._blocks.25._expand_conv.weight\n",
      "encoder._blocks.25._bn0.weight\n",
      "encoder._blocks.25._bn0.bias\n",
      "encoder._blocks.25._depthwise_conv.weight\n",
      "encoder._blocks.25._bn1.weight\n",
      "encoder._blocks.25._bn1.bias\n",
      "encoder._blocks.25._se_reduce.weight\n",
      "encoder._blocks.25._se_reduce.bias\n",
      "encoder._blocks.25._se_expand.weight\n",
      "encoder._blocks.25._se_expand.bias\n",
      "encoder._blocks.25._project_conv.weight\n",
      "encoder._blocks.25._bn2.weight\n",
      "encoder._blocks.25._bn2.bias\n",
      "encoder._conv_head.weight\n",
      "encoder._bn1.weight\n",
      "encoder._bn1.bias\n",
      "decoder.center.block.0.block.0.weight\n",
      "decoder.center.block.0.block.1.weight\n",
      "decoder.center.block.0.block.1.bias\n",
      "decoder.center.block.1.block.0.weight\n",
      "decoder.center.block.1.block.1.weight\n",
      "decoder.center.block.1.block.1.bias\n",
      "decoder.layer1.block.0.block.0.weight\n",
      "decoder.layer1.block.0.block.1.weight\n",
      "decoder.layer1.block.0.block.1.bias\n",
      "decoder.layer1.block.1.block.0.weight\n",
      "decoder.layer1.block.1.block.1.weight\n",
      "decoder.layer1.block.1.block.1.bias\n",
      "decoder.layer2.block.0.block.0.weight\n",
      "decoder.layer2.block.0.block.1.weight\n",
      "decoder.layer2.block.0.block.1.bias\n",
      "decoder.layer2.block.1.block.0.weight\n",
      "decoder.layer2.block.1.block.1.weight\n",
      "decoder.layer2.block.1.block.1.bias\n",
      "decoder.layer3.block.0.block.0.weight\n",
      "decoder.layer3.block.0.block.1.weight\n",
      "decoder.layer3.block.0.block.1.bias\n",
      "decoder.layer3.block.1.block.0.weight\n",
      "decoder.layer3.block.1.block.1.weight\n",
      "decoder.layer3.block.1.block.1.bias\n",
      "decoder.layer4.block.0.block.0.weight\n",
      "decoder.layer4.block.0.block.1.weight\n",
      "decoder.layer4.block.0.block.1.bias\n",
      "decoder.layer4.block.1.block.0.weight\n",
      "decoder.layer4.block.1.block.1.weight\n",
      "decoder.layer4.block.1.block.1.bias\n",
      "decoder.layer5.block.0.block.0.weight\n",
      "decoder.layer5.block.0.block.1.weight\n",
      "decoder.layer5.block.0.block.1.bias\n",
      "decoder.layer5.block.1.block.0.weight\n",
      "decoder.layer5.block.1.block.1.weight\n",
      "decoder.layer5.block.1.block.1.bias\n",
      "decoder.final_conv.weight\n",
      "decoder.final_conv.bias\n"
     ]
    }
   ],
   "source": [
    "for param in net.named_parameters():\n",
    "    print(param[0])"
   ]
  },
  {
   "cell_type": "code",
   "execution_count": 15,
   "metadata": {
    "scrolled": true
   },
   "outputs": [
    {
     "name": "stdout",
     "output_type": "stream",
     "text": [
      "-1\n",
      "-2\n",
      "-2\n",
      "-2\n",
      "-3\n",
      "-4\n",
      "-4\n",
      "-4\n",
      "-5\n",
      "-5\n",
      "-6\n",
      "-6\n",
      "-7\n",
      "-7\n",
      "-7\n",
      "-8\n",
      "-9\n",
      "-9\n",
      "-9\n",
      "-10\n",
      "-10\n",
      "-10\n",
      "-10\n",
      "-11\n",
      "-12\n",
      "-13\n",
      "-14\n",
      "-15\n",
      "-15\n",
      "-15\n",
      "-15\n",
      "-15\n",
      "-15\n",
      "-15\n",
      "-16\n",
      "-17\n",
      "-17\n",
      "-17\n",
      "-18\n",
      "-18\n"
     ]
    }
   ],
   "source": [
    "LearningRate = 0.01\n",
    "NUM_EPOCHS = 40\n",
    "enc_params = [p[1] for p in net.named_parameters() if ('resnet' in p[0] or 'encoder' in p[0])]\n",
    "other_params = [p[1] for p in net.named_parameters() if ('resnet' not in p[0] and 'encoder' not in p[0])]\n",
    "train_params = [{'params': enc_params, 'lr': LearningRate},\n",
    "                {'params': other_params, 'lr': LearningRate * 10}]\n",
    "\n",
    "optimizer = torch.optim.SGD(train_params, momentum=0.9, weight_decay=0.0001, lr=LearningRate)\n",
    "#scheduler = LR_Scheduler('poly', LearningRate, NUM_EPOCHS, len(train_dl))#lr_scheduler=['poly', 'step', 'cos']\n",
    "scheduler = torch.optim.lr_scheduler.ReduceLROnPlateau(optimizer, mode='max', \n",
    "                                                      factor=0.5, patience=4,#4 resnet34 \n",
    "                                                      verbose=False, threshold=0.0001, \n",
    "                                                      threshold_mode='rel', cooldown=0, \n",
    "                                                      min_lr=0, eps=1e-08)\n",
    "\n",
    "val_metric = 0\n",
    "for i_epoch in range(NUM_EPOCHS):\n",
    "    #for i, (image, masks) in enumerate(train_dl):\n",
    "    if np.random.randn(1)>0:\n",
    "        val_metric -= 1\n",
    "    print(val_metric)\n",
    "    scheduler.step(val_metric)\n",
    "    "
   ]
  },
  {
   "cell_type": "code",
   "execution_count": 9,
   "metadata": {
    "scrolled": true
   },
   "outputs": [
    {
     "ename": "RuntimeError",
     "evalue": "Given groups=1, weight of size 64 3 7 7, expected input[4, 1, 512, 768] to have 3 channels, but got 1 channels instead",
     "output_type": "error",
     "traceback": [
      "\u001b[0;31m---------------------------------------------------------------------------\u001b[0m",
      "\u001b[0;31mRuntimeError\u001b[0m                              Traceback (most recent call last)",
      "\u001b[0;32m<ipython-input-9-44e115016fb1>\u001b[0m in \u001b[0;36m<module>\u001b[0;34m\u001b[0m\n\u001b[0;32m----> 1\u001b[0;31m \u001b[0mlogit\u001b[0m \u001b[0;34m=\u001b[0m \u001b[0mnet\u001b[0m\u001b[0;34m(\u001b[0m\u001b[0mimages\u001b[0m\u001b[0;34m)\u001b[0m\u001b[0;34m\u001b[0m\u001b[0;34m\u001b[0m\u001b[0m\n\u001b[0m",
      "\u001b[0;32m~/anaconda3/lib/python3.7/site-packages/torch/nn/modules/module.py\u001b[0m in \u001b[0;36m__call__\u001b[0;34m(self, *input, **kwargs)\u001b[0m\n\u001b[1;32m    491\u001b[0m             \u001b[0mresult\u001b[0m \u001b[0;34m=\u001b[0m \u001b[0mself\u001b[0m\u001b[0;34m.\u001b[0m\u001b[0m_slow_forward\u001b[0m\u001b[0;34m(\u001b[0m\u001b[0;34m*\u001b[0m\u001b[0minput\u001b[0m\u001b[0;34m,\u001b[0m \u001b[0;34m**\u001b[0m\u001b[0mkwargs\u001b[0m\u001b[0;34m)\u001b[0m\u001b[0;34m\u001b[0m\u001b[0;34m\u001b[0m\u001b[0m\n\u001b[1;32m    492\u001b[0m         \u001b[0;32melse\u001b[0m\u001b[0;34m:\u001b[0m\u001b[0;34m\u001b[0m\u001b[0;34m\u001b[0m\u001b[0m\n\u001b[0;32m--> 493\u001b[0;31m             \u001b[0mresult\u001b[0m \u001b[0;34m=\u001b[0m \u001b[0mself\u001b[0m\u001b[0;34m.\u001b[0m\u001b[0mforward\u001b[0m\u001b[0;34m(\u001b[0m\u001b[0;34m*\u001b[0m\u001b[0minput\u001b[0m\u001b[0;34m,\u001b[0m \u001b[0;34m**\u001b[0m\u001b[0mkwargs\u001b[0m\u001b[0;34m)\u001b[0m\u001b[0;34m\u001b[0m\u001b[0;34m\u001b[0m\u001b[0m\n\u001b[0m\u001b[1;32m    494\u001b[0m         \u001b[0;32mfor\u001b[0m \u001b[0mhook\u001b[0m \u001b[0;32min\u001b[0m \u001b[0mself\u001b[0m\u001b[0;34m.\u001b[0m\u001b[0m_forward_hooks\u001b[0m\u001b[0;34m.\u001b[0m\u001b[0mvalues\u001b[0m\u001b[0;34m(\u001b[0m\u001b[0;34m)\u001b[0m\u001b[0;34m:\u001b[0m\u001b[0;34m\u001b[0m\u001b[0;34m\u001b[0m\u001b[0m\n\u001b[1;32m    495\u001b[0m             \u001b[0mhook_result\u001b[0m \u001b[0;34m=\u001b[0m \u001b[0mhook\u001b[0m\u001b[0;34m(\u001b[0m\u001b[0mself\u001b[0m\u001b[0;34m,\u001b[0m \u001b[0minput\u001b[0m\u001b[0;34m,\u001b[0m \u001b[0mresult\u001b[0m\u001b[0;34m)\u001b[0m\u001b[0;34m\u001b[0m\u001b[0;34m\u001b[0m\u001b[0m\n",
      "\u001b[0;32m~/anaconda3/lib/python3.7/site-packages/segmentation_models_pytorch/base/encoder_decoder.py\u001b[0m in \u001b[0;36mforward\u001b[0;34m(self, x)\u001b[0m\n\u001b[1;32m     22\u001b[0m     \u001b[0;32mdef\u001b[0m \u001b[0mforward\u001b[0m\u001b[0;34m(\u001b[0m\u001b[0mself\u001b[0m\u001b[0;34m,\u001b[0m \u001b[0mx\u001b[0m\u001b[0;34m)\u001b[0m\u001b[0;34m:\u001b[0m\u001b[0;34m\u001b[0m\u001b[0;34m\u001b[0m\u001b[0m\n\u001b[1;32m     23\u001b[0m         \u001b[0;34m\"\"\"Sequentially pass `x` trough model`s `encoder` and `decoder` (return logits!)\"\"\"\u001b[0m\u001b[0;34m\u001b[0m\u001b[0;34m\u001b[0m\u001b[0m\n\u001b[0;32m---> 24\u001b[0;31m         \u001b[0mx\u001b[0m \u001b[0;34m=\u001b[0m \u001b[0mself\u001b[0m\u001b[0;34m.\u001b[0m\u001b[0mencoder\u001b[0m\u001b[0;34m(\u001b[0m\u001b[0mx\u001b[0m\u001b[0;34m)\u001b[0m\u001b[0;34m\u001b[0m\u001b[0;34m\u001b[0m\u001b[0m\n\u001b[0m\u001b[1;32m     25\u001b[0m         \u001b[0mx\u001b[0m \u001b[0;34m=\u001b[0m \u001b[0mself\u001b[0m\u001b[0;34m.\u001b[0m\u001b[0mdecoder\u001b[0m\u001b[0;34m(\u001b[0m\u001b[0mx\u001b[0m\u001b[0;34m)\u001b[0m\u001b[0;34m\u001b[0m\u001b[0;34m\u001b[0m\u001b[0m\n\u001b[1;32m     26\u001b[0m         \u001b[0;32mreturn\u001b[0m \u001b[0mx\u001b[0m\u001b[0;34m\u001b[0m\u001b[0;34m\u001b[0m\u001b[0m\n",
      "\u001b[0;32m~/anaconda3/lib/python3.7/site-packages/torch/nn/modules/module.py\u001b[0m in \u001b[0;36m__call__\u001b[0;34m(self, *input, **kwargs)\u001b[0m\n\u001b[1;32m    491\u001b[0m             \u001b[0mresult\u001b[0m \u001b[0;34m=\u001b[0m \u001b[0mself\u001b[0m\u001b[0;34m.\u001b[0m\u001b[0m_slow_forward\u001b[0m\u001b[0;34m(\u001b[0m\u001b[0;34m*\u001b[0m\u001b[0minput\u001b[0m\u001b[0;34m,\u001b[0m \u001b[0;34m**\u001b[0m\u001b[0mkwargs\u001b[0m\u001b[0;34m)\u001b[0m\u001b[0;34m\u001b[0m\u001b[0;34m\u001b[0m\u001b[0m\n\u001b[1;32m    492\u001b[0m         \u001b[0;32melse\u001b[0m\u001b[0;34m:\u001b[0m\u001b[0;34m\u001b[0m\u001b[0;34m\u001b[0m\u001b[0m\n\u001b[0;32m--> 493\u001b[0;31m             \u001b[0mresult\u001b[0m \u001b[0;34m=\u001b[0m \u001b[0mself\u001b[0m\u001b[0;34m.\u001b[0m\u001b[0mforward\u001b[0m\u001b[0;34m(\u001b[0m\u001b[0;34m*\u001b[0m\u001b[0minput\u001b[0m\u001b[0;34m,\u001b[0m \u001b[0;34m**\u001b[0m\u001b[0mkwargs\u001b[0m\u001b[0;34m)\u001b[0m\u001b[0;34m\u001b[0m\u001b[0;34m\u001b[0m\u001b[0m\n\u001b[0m\u001b[1;32m    494\u001b[0m         \u001b[0;32mfor\u001b[0m \u001b[0mhook\u001b[0m \u001b[0;32min\u001b[0m \u001b[0mself\u001b[0m\u001b[0;34m.\u001b[0m\u001b[0m_forward_hooks\u001b[0m\u001b[0;34m.\u001b[0m\u001b[0mvalues\u001b[0m\u001b[0;34m(\u001b[0m\u001b[0;34m)\u001b[0m\u001b[0;34m:\u001b[0m\u001b[0;34m\u001b[0m\u001b[0;34m\u001b[0m\u001b[0m\n\u001b[1;32m    495\u001b[0m             \u001b[0mhook_result\u001b[0m \u001b[0;34m=\u001b[0m \u001b[0mhook\u001b[0m\u001b[0;34m(\u001b[0m\u001b[0mself\u001b[0m\u001b[0;34m,\u001b[0m \u001b[0minput\u001b[0m\u001b[0;34m,\u001b[0m \u001b[0mresult\u001b[0m\u001b[0;34m)\u001b[0m\u001b[0;34m\u001b[0m\u001b[0;34m\u001b[0m\u001b[0m\n",
      "\u001b[0;32m~/anaconda3/lib/python3.7/site-packages/segmentation_models_pytorch/encoders/resnet.py\u001b[0m in \u001b[0;36mforward\u001b[0;34m(self, x)\u001b[0m\n\u001b[1;32m     13\u001b[0m \u001b[0;34m\u001b[0m\u001b[0m\n\u001b[1;32m     14\u001b[0m     \u001b[0;32mdef\u001b[0m \u001b[0mforward\u001b[0m\u001b[0;34m(\u001b[0m\u001b[0mself\u001b[0m\u001b[0;34m,\u001b[0m \u001b[0mx\u001b[0m\u001b[0;34m)\u001b[0m\u001b[0;34m:\u001b[0m\u001b[0;34m\u001b[0m\u001b[0;34m\u001b[0m\u001b[0m\n\u001b[0;32m---> 15\u001b[0;31m         \u001b[0mx0\u001b[0m \u001b[0;34m=\u001b[0m \u001b[0mself\u001b[0m\u001b[0;34m.\u001b[0m\u001b[0mconv1\u001b[0m\u001b[0;34m(\u001b[0m\u001b[0mx\u001b[0m\u001b[0;34m)\u001b[0m\u001b[0;34m\u001b[0m\u001b[0;34m\u001b[0m\u001b[0m\n\u001b[0m\u001b[1;32m     16\u001b[0m         \u001b[0mx0\u001b[0m \u001b[0;34m=\u001b[0m \u001b[0mself\u001b[0m\u001b[0;34m.\u001b[0m\u001b[0mbn1\u001b[0m\u001b[0;34m(\u001b[0m\u001b[0mx0\u001b[0m\u001b[0;34m)\u001b[0m\u001b[0;34m\u001b[0m\u001b[0;34m\u001b[0m\u001b[0m\n\u001b[1;32m     17\u001b[0m         \u001b[0mx0\u001b[0m \u001b[0;34m=\u001b[0m \u001b[0mself\u001b[0m\u001b[0;34m.\u001b[0m\u001b[0mrelu\u001b[0m\u001b[0;34m(\u001b[0m\u001b[0mx0\u001b[0m\u001b[0;34m)\u001b[0m\u001b[0;34m\u001b[0m\u001b[0;34m\u001b[0m\u001b[0m\n",
      "\u001b[0;32m~/anaconda3/lib/python3.7/site-packages/torch/nn/modules/module.py\u001b[0m in \u001b[0;36m__call__\u001b[0;34m(self, *input, **kwargs)\u001b[0m\n\u001b[1;32m    491\u001b[0m             \u001b[0mresult\u001b[0m \u001b[0;34m=\u001b[0m \u001b[0mself\u001b[0m\u001b[0;34m.\u001b[0m\u001b[0m_slow_forward\u001b[0m\u001b[0;34m(\u001b[0m\u001b[0;34m*\u001b[0m\u001b[0minput\u001b[0m\u001b[0;34m,\u001b[0m \u001b[0;34m**\u001b[0m\u001b[0mkwargs\u001b[0m\u001b[0;34m)\u001b[0m\u001b[0;34m\u001b[0m\u001b[0;34m\u001b[0m\u001b[0m\n\u001b[1;32m    492\u001b[0m         \u001b[0;32melse\u001b[0m\u001b[0;34m:\u001b[0m\u001b[0;34m\u001b[0m\u001b[0;34m\u001b[0m\u001b[0m\n\u001b[0;32m--> 493\u001b[0;31m             \u001b[0mresult\u001b[0m \u001b[0;34m=\u001b[0m \u001b[0mself\u001b[0m\u001b[0;34m.\u001b[0m\u001b[0mforward\u001b[0m\u001b[0;34m(\u001b[0m\u001b[0;34m*\u001b[0m\u001b[0minput\u001b[0m\u001b[0;34m,\u001b[0m \u001b[0;34m**\u001b[0m\u001b[0mkwargs\u001b[0m\u001b[0;34m)\u001b[0m\u001b[0;34m\u001b[0m\u001b[0;34m\u001b[0m\u001b[0m\n\u001b[0m\u001b[1;32m    494\u001b[0m         \u001b[0;32mfor\u001b[0m \u001b[0mhook\u001b[0m \u001b[0;32min\u001b[0m \u001b[0mself\u001b[0m\u001b[0;34m.\u001b[0m\u001b[0m_forward_hooks\u001b[0m\u001b[0;34m.\u001b[0m\u001b[0mvalues\u001b[0m\u001b[0;34m(\u001b[0m\u001b[0;34m)\u001b[0m\u001b[0;34m:\u001b[0m\u001b[0;34m\u001b[0m\u001b[0;34m\u001b[0m\u001b[0m\n\u001b[1;32m    495\u001b[0m             \u001b[0mhook_result\u001b[0m \u001b[0;34m=\u001b[0m \u001b[0mhook\u001b[0m\u001b[0;34m(\u001b[0m\u001b[0mself\u001b[0m\u001b[0;34m,\u001b[0m \u001b[0minput\u001b[0m\u001b[0;34m,\u001b[0m \u001b[0mresult\u001b[0m\u001b[0;34m)\u001b[0m\u001b[0;34m\u001b[0m\u001b[0;34m\u001b[0m\u001b[0m\n",
      "\u001b[0;32m~/anaconda3/lib/python3.7/site-packages/torch/nn/modules/conv.py\u001b[0m in \u001b[0;36mforward\u001b[0;34m(self, input)\u001b[0m\n\u001b[1;32m    336\u001b[0m                             _pair(0), self.dilation, self.groups)\n\u001b[1;32m    337\u001b[0m         return F.conv2d(input, self.weight, self.bias, self.stride,\n\u001b[0;32m--> 338\u001b[0;31m                         self.padding, self.dilation, self.groups)\n\u001b[0m\u001b[1;32m    339\u001b[0m \u001b[0;34m\u001b[0m\u001b[0m\n\u001b[1;32m    340\u001b[0m \u001b[0;34m\u001b[0m\u001b[0m\n",
      "\u001b[0;31mRuntimeError\u001b[0m: Given groups=1, weight of size 64 3 7 7, expected input[4, 1, 512, 768] to have 3 channels, but got 1 channels instead"
     ]
    }
   ],
   "source": [
    "logit = net(images)"
   ]
  },
  {
   "cell_type": "code",
   "execution_count": 13,
   "metadata": {
    "scrolled": true
   },
   "outputs": [
    {
     "data": {
      "text/plain": [
       "(torch.Size([4, 4, 512, 768]), torch.Size([4, 4, 512, 768]))"
      ]
     },
     "execution_count": 13,
     "metadata": {},
     "output_type": "execute_result"
    }
   ],
   "source": [
    "logit.size(), masks.size()"
   ]
  },
  {
   "cell_type": "code",
   "execution_count": null,
   "metadata": {},
   "outputs": [],
   "source": []
  },
  {
   "cell_type": "code",
   "execution_count": 14,
   "metadata": {
    "scrolled": true
   },
   "outputs": [
    {
     "data": {
      "text/plain": [
       "tensor(0.7799, device='cuda:0', grad_fn=<AddBackward0>)"
      ]
     },
     "execution_count": 14,
     "metadata": {},
     "output_type": "execute_result"
    }
   ],
   "source": [
    "_loss = net.criterion(logit, masks, nonempty_only=False)\n",
    "_loss"
   ]
  },
  {
   "cell_type": "code",
   "execution_count": 15,
   "metadata": {},
   "outputs": [
    {
     "data": {
      "text/plain": [
       "tensor(0.0789, device='cuda:0')"
      ]
     },
     "execution_count": 15,
     "metadata": {},
     "output_type": "execute_result"
    }
   ],
   "source": [
    "_metric = net.metric(logit, masks, nonempty_only=False)\n",
    "_metric"
   ]
  },
  {
   "cell_type": "code",
   "execution_count": null,
   "metadata": {},
   "outputs": [],
   "source": []
  },
  {
   "cell_type": "markdown",
   "metadata": {},
   "source": [
    "## predict the validset, and analyse"
   ]
  },
  {
   "cell_type": "code",
   "execution_count": null,
   "metadata": {},
   "outputs": [],
   "source": [
    "#move checkpoint from gamma machine to here\n",
    "cd checkpoint\n",
    "scp -r endi.niu@10.171.36.214:/home/endi.niu/SIIM/checkpoint/deeplabv3plus_resnet_1280_v2_seed2345/ deeplabv3plus_resnet_1280_v2_seed2345\n",
    "cd logging\n",
    "scp -r endi.niu@10.171.36.214:/home/endi.niu/SIIM/logging/deeplabv3plus_resnet_1280_v2_seed2345.log deeplabv3plus_resnet_1280_v2_seed2345.log\n"
   ]
  },
  {
   "cell_type": "code",
   "execution_count": 1,
   "metadata": {},
   "outputs": [],
   "source": [
    "import sys\n",
    "sys.path.append('../')\n",
    "\n",
    "import numpy as np\n",
    "import pandas as pd\n",
    "import math\n",
    "from matplotlib import pyplot as plt\n",
    "from tqdm import tqdm, tqdm_notebook\n",
    "import pickle\n",
    "import os\n",
    "import logging\n",
    "import time\n",
    "import gc\n",
    "from IPython.core.debugger import set_trace\n",
    "import cv2\n",
    "import copy\n",
    "\n",
    "import torch\n",
    "import torch.nn as nn\n",
    "import torch.nn.functional as F\n",
    "\n",
    "from utils.utils import save_checkpoint, load_checkpoint, set_logger\n",
    "from utils.gpu_utils import set_n_get_device\n",
    "\n",
    "from dataset.dataset import prepare_trainset\n",
    "\n",
    "\n",
    "use_model = 0\n",
    "if use_model==0:\n",
    "    from model.deeplab_model_kaggler.deeplab import DeepLab, predict_proba\n",
    "elif use_model==1:\n",
    "    from model.EfficientUnet.efficient_unet import Efficient_Unet, predict_proba\n",
    "elif use_model==2:\n",
    "    from model.CSAILVision.models.models import SegmentationModule, predict_proba\n",
    "elif use_model==3:\n",
    "    from model.model_unet import UNetResNet34, predict_proba\n",
    "elif use_model==4:#FPNResNet34\n",
    "    from model.model_resnet_fpn import FPNResNet34, predict_proba\n",
    "elif use_model==5:\n",
    "    from model.model_plain_unet import UNetResNet34, predict_proba\n",
    "elif use_model==6:\n",
    "    from model.model_pspnet import PSPNet, predict_proba\n",
    "\n",
    "#from model.model_unet_classify_zero import UNetResNet34 as NonzeroClf\n",
    "#from model.model_unet_classify_zero import predict_proba as predict_proba_nonzero\n",
    "\n",
    "def sigmoid(x):\n",
    "    return 1 / (1 + np.exp(-x))\n",
    "\n",
    "def inverse_sigmoid(x):\n",
    "    return np.log(x / (1-x))\n",
    "\n",
    "%matplotlib inline"
   ]
  },
  {
   "cell_type": "code",
   "execution_count": null,
   "metadata": {},
   "outputs": [],
   "source": []
  },
  {
   "cell_type": "code",
   "execution_count": 2,
   "metadata": {
    "scrolled": true
   },
   "outputs": [
    {
     "name": "stdout",
     "output_type": "stream",
     "text": [
      "====MODEL ACHITECTURE: resnet====\n"
     ]
    }
   ],
   "source": [
    "######### Config the training process #########\n",
    "\n",
    "if use_model==0:\n",
    "    MODEL = 'resnet'\n",
    "elif use_model==1:\n",
    "    MODEL = 'b5'\n",
    "elif use_model==2:\n",
    "    MODEL = ''\n",
    "elif use_model==3:\n",
    "    MODEL = 'UNetResNet34'\n",
    "elif use_model==4:\n",
    "    MODEL = 'resnet34'\n",
    "elif use_model==5:\n",
    "    MODEL = 'resnet34'\n",
    "elif use_model==6:\n",
    "    MODEL = 'resnet34'\n",
    "else:\n",
    "    MODEL = ''\n",
    "print('====MODEL ACHITECTURE: %s===='%MODEL)\n",
    "\n",
    "device = set_n_get_device(\"0,1,2,3\", data_device_id=\"cuda:0\")#0, 1, 2, 3, IMPORTANT: data_device_id is set to free gpu for storing the model, e.g.\"cuda:1\"\n",
    "multi_gpu = [0,1,2,3] #None#[0, 1]#use 2 gpus\n",
    "\n",
    "SEED = 2110\n",
    "debug = False# if True, load 100 samples\n",
    "if use_model==0:\n",
    "    IMG_SIZE = (512, 768) #(1024, 1536) #(768, 1152) #(512, 768)\n",
    "    output_shape = None\n",
    "elif use_model==2:\n",
    "    IMG_SIZE = (512, 768)\n",
    "    output_shape = None\n",
    "elif use_model==4:\n",
    "    IMG_SIZE = (512, 768)#(1024, 1536)\n",
    "    output_shape = None#(512, 768)\n",
    "elif use_model==5:\n",
    "    IMG_SIZE = (512, 768)\n",
    "    output_shape = None\n",
    "elif use_model==6:\n",
    "    IMG_SIZE = (512, 768)\n",
    "    output_shape = None\n",
    "BATCH_SIZE = 32#64\n",
    "NUM_WORKERS = 24\n",
    "torch.cuda.manual_seed_all(SEED)"
   ]
  },
  {
   "cell_type": "code",
   "execution_count": 3,
   "metadata": {},
   "outputs": [
    {
     "name": "stdout",
     "output_type": "stream",
     "text": [
      "Count images in train/test folder:  5546 3698\n",
      "Count of trainset (for training):  4714\n",
      "Count of validset (for training):  832\n"
     ]
    }
   ],
   "source": [
    "train_dl, val_dl = prepare_trainset(BATCH_SIZE, NUM_WORKERS, SEED, IMG_SIZE, debug, \n",
    "                                    nonempty_only=False, crop=False, output_shape=output_shape)"
   ]
  },
  {
   "cell_type": "code",
   "execution_count": 4,
   "metadata": {},
   "outputs": [
    {
     "data": {
      "text/plain": [
       "(832, 4, 512, 768)"
      ]
     },
     "execution_count": 4,
     "metadata": {},
     "output_type": "execute_result"
    }
   ],
   "source": [
    "# y should be makeup\n",
    "y_valid = []\n",
    "for i, (image, masks) in enumerate(val_dl):\n",
    "    #if i==10:\n",
    "    #    break\n",
    "    #truth = masks.to(device=device, dtype=torch.float)\n",
    "    y_valid.append(masks.numpy())\n",
    "y_valid = np.concatenate(y_valid, axis=0)\n",
    "y_valid.shape"
   ]
  },
  {
   "cell_type": "code",
   "execution_count": 5,
   "metadata": {},
   "outputs": [],
   "source": [
    "if use_model==0:\n",
    "    net = DeepLab(num_classes=4,\n",
    "                  backbone=MODEL,#resnet34, resnet101\n",
    "                  output_stride=16,#default 16, 8\n",
    "                  sync_bn=None,\n",
    "                  freeze_bn=False,\n",
    "                  debug=False, \n",
    "                  clf_path=True\n",
    "                 ).cuda(device=device)\n",
    "elif use_model==1:\n",
    "    net = Efficient_Unet(num_class=4, drop_connect_rate=0.2).cuda(device=device)\n",
    "elif use_model==2:\n",
    "    #net = SegmentationModule(net_enc='resnet50', net_dec='upernet').cuda(device=device)\n",
    "    net = SegmentationModule(net_enc='hrnetv2', net_dec='c1').cuda(device=device)\n",
    "elif use_model==3:\n",
    "    net = UNetResNet34(debug=False).cuda(device=device)\n",
    "elif use_model==4:\n",
    "    net = FPNResNet34(debug=False).cuda(device=device)\n",
    "elif use_model==5:\n",
    "    net = UNetResNet34(debug=False).cuda(device=device)\n",
    "\n",
    "#checkpoint_path = '../checkpoint/deeplabv3plus_resnet_512x768_v6_seed2001/best.pth.tar'\n",
    "#checkpoint_path = '../checkpoint/deeplabv3plus_resnet_400x600_v7_seed2013/best.pth.tar'\n",
    "#checkpoint_path = '../checkpoint/deeplabv3plus_resnet_768x1152_v7_seed2016/best.pth.tar'\n",
    "#checkpoint_path = '../checkpoint/deeplabv3plus_resnet_512x768_v12_seed2041/best.pth.tar'\n",
    "#checkpoint_path = '../checkpoint/UNetResNet34_512x768_v3_seed2034/best.pth.tar'\n",
    "#checkpoint_path = '../checkpoint/fpn_resnet34_512x768_v1_seed2034/best.pth.tar'\n",
    "#checkpoint_path = '../checkpoint/fpn_resnet34_768x1152_v1_seed2034/best.pth.tar'\n",
    "\n",
    "#checkpoint_path = '../checkpoint/fpn_resnet34_1024x1536_v1_seed2042/best.pth.tar'\n",
    "#checkpoint_path = '../checkpoint/deeplabv3plus_resnet_512x768_v13_seed2046/best.pth.tar'\n",
    "#checkpoint_path = '../checkpoint/unet_resnet34_512x768_v1_seed2061/best.pth.tar'\n",
    "checkpoint_path = '../checkpoint/CSAILVision_hrnetv2_c1_512x768_v3_seed2110/best.pth.tar'\n",
    "\n",
    "net, _ = load_checkpoint(checkpoint_path, net)\n",
    "\n",
    "if multi_gpu is not None:\n",
    "    net = nn.DataParallel(net, device_ids=multi_gpu)"
   ]
  },
  {
   "cell_type": "code",
   "execution_count": 22,
   "metadata": {},
   "outputs": [],
   "source": [
    "# ## tta: flip lr + ud\n",
    "# def predict_proba(net, test_dl, device, multi_gpu=False, mode='test', tta=True):\n",
    "#     if tta:\n",
    "#         print(\"use TTA\")\n",
    "#     else:\n",
    "#         print(\"not use TTA\")\n",
    "#     y_pred = None\n",
    "#     if multi_gpu:\n",
    "#         net.module.set_mode('test')\n",
    "#     else:\n",
    "#         net.set_mode('test')\n",
    "#     with torch.no_grad():\n",
    "#         if mode=='valid':\n",
    "#             for i, (image, masks) in enumerate(test_dl):\n",
    "#                 input_data = image.to(device=device, dtype=torch.float)\n",
    "#                 logit = net(input_data).cpu().numpy()\n",
    "#                 if tta:#horizontal/vertical flip\n",
    "#                     input_data_flip_lr = torch.flip(image, [3]).to(device=device, dtype=torch.float)\n",
    "#                     logit_flip_lr = net(input_data_flip_lr).cpu().numpy()[:,:,:,::-1]\n",
    "#                     input_data_flip_ud = torch.flip(image, [2]).to(device=device, dtype=torch.float)\n",
    "#                     logit_flip_ud = net(input_data_flip_ud).cpu().numpy()[:,:,::-1,:]                    \n",
    "#                     logit = (logit + logit_flip_lr + logit_flip_ud) / 3\n",
    "#                 if y_pred is None:\n",
    "#                     y_pred = logit\n",
    "#                 else:\n",
    "#                     y_pred = np.concatenate([y_pred, logit], axis=0)\n",
    "#         elif mode=='test':\n",
    "#             for i, image in enumerate(test_dl):\n",
    "#                 input_data = image.to(device=device, dtype=torch.float)\n",
    "#                 logit = net(input_data).cpu().numpy()\n",
    "#                 if tta:#horizontal/vertical flip\n",
    "#                     input_data_flip_lr = torch.flip(image, [3]).to(device=device, dtype=torch.float)\n",
    "#                     logit_flip_lr = net(input_data_flip_lr).cpu().numpy()[:,:,:,::-1]\n",
    "#                     input_data_flip_ud = torch.flip(image, [2]).to(device=device, dtype=torch.float)\n",
    "#                     logit_flip_ud = net(input_data_flip_ud).cpu().numpy()[:,:,::-1,:]                    \n",
    "#                     logit = (logit + logit_flip_lr + logit_flip_ud) / 3\n",
    "#                 if y_pred is None:\n",
    "#                     y_pred = logit\n",
    "#                 else:\n",
    "#                     y_pred = np.concatenate([y_pred, logit], axis=0)\n",
    "#     h,w = y_pred.shape[2], y_pred.shape[3]\n",
    "#     return y_pred.reshape(-1, 4, h, w)#Nx4x256x1600"
   ]
  },
  {
   "cell_type": "code",
   "execution_count": 6,
   "metadata": {
    "scrolled": true
   },
   "outputs": [
    {
     "name": "stdout",
     "output_type": "stream",
     "text": [
      "use TTA\n",
      "CPU times: user 4min 54s, sys: 41.3 s, total: 5min 35s\n",
      "Wall time: 56 s\n"
     ]
    }
   ],
   "source": [
    "%%time\n",
    "preds_valid, preds_valid_clf = predict_proba(net, val_dl, device, multi_gpu=multi_gpu, mode='valid', tta=True)"
   ]
  },
  {
   "cell_type": "code",
   "execution_count": 7,
   "metadata": {},
   "outputs": [
    {
     "data": {
      "text/plain": [
       "((832, 4, 512, 768), (832, 4, 512, 768), (832, 4))"
      ]
     },
     "execution_count": 7,
     "metadata": {},
     "output_type": "execute_result"
    }
   ],
   "source": [
    "y_valid.shape, preds_valid.shape, preds_valid_clf.shape"
   ]
  },
  {
   "cell_type": "code",
   "execution_count": 9,
   "metadata": {},
   "outputs": [],
   "source": [
    "# ## NonzeroClf predict 4-ch-empty and delete mask\n",
    "# net_clf = NonzeroClf(debug=False).cuda(device=device)\n",
    "# checkpoint_path = '../checkpoint/nonzero_classifier_UNetResNet34_256x1600_v2_seed1234/best.pth.tar'\n",
    "# net_clf, _ = load_checkpoint(checkpoint_path, net_clf)\n",
    "\n",
    "# if multi_gpu is not None:\n",
    "#     net_clf = nn.DataParallel(net_clf, device_ids=multi_gpu)\n",
    "\n",
    "# preds_valid_clf = predict_proba_nonzero(net_clf, val_dl, device, multi_gpu=multi_gpu, mode='valid', tta=True)\n",
    "# preds_valid_clf.shape"
   ]
  },
  {
   "cell_type": "code",
   "execution_count": null,
   "metadata": {},
   "outputs": [],
   "source": []
  },
  {
   "cell_type": "code",
   "execution_count": 8,
   "metadata": {},
   "outputs": [],
   "source": [
    "def dice_overall(pred, truth, eps=1e-8):\n",
    "#     if nonempty_only:\n",
    "#         n, c = truth_mask.shape[0], truth_mask.shape[1]\n",
    "#         pred_mask = pred_mask.reshape(n*c, -1)\n",
    "#         truth_mask = truth_mask.reshape(n*c, -1)\n",
    "#         indexing = truth_mask.sum(axis=1)>0\n",
    "#         pred_mask = pred_mask[indexing]\n",
    "#         truth_mask = truth_mask[indexing]\n",
    "#         eps = 0.0\n",
    "    ## the correct LB metric: if both GT and pred empty mask image, then dice score=1\n",
    "    is_empty = (truth.sum(axis=1)==0) * (pred.sum(axis=1)==0)\n",
    "    truth_pos = truth[(1-is_empty).astype(bool)]\n",
    "    pred_pos = pred[(1-is_empty).astype(bool)]\n",
    "    intersect_pos = (pred_pos * truth_pos).sum(axis=1).astype(np.float)\n",
    "    union_pos = (pred_pos + truth_pos).sum(axis=1).astype(np.float)\n",
    "    dice_pos = ((2.0*intersect_pos + eps) / (union_pos+eps)).sum()\n",
    "    return (dice_pos + is_empty.sum()) / truth.shape[0]\n",
    "#     intersect = (pred * truth).sum(axis=1).astype(np.float)\n",
    "#     union = (pred + truth).sum(axis=1).astype(np.float)\n",
    "#     return ((2.0*intersect + eps) / (union+eps)).mean()\n",
    "\n",
    "# h, w = 256, 1600\n",
    "# print('For reference')\n",
    "# print('EMPTY_THRESHOLD: ', 400*(h/256)*(w/1600))\n",
    "# print('MASK_THRESHOLD: ', 0.5)"
   ]
  },
  {
   "cell_type": "code",
   "execution_count": null,
   "metadata": {},
   "outputs": [],
   "source": []
  },
  {
   "cell_type": "code",
   "execution_count": 12,
   "metadata": {
    "scrolled": true
   },
   "outputs": [
    {
     "name": "stdout",
     "output_type": "stream",
     "text": [
      "best_threshold_EMPTY:  [1, 1, 1, 1]\n",
      "best_threshold_CLF:  0.6\n",
      "best_threshold_MASK:  [0.3, 0.3, 0.3, 0.3]\n",
      "truth pos_ratio:  0.5336538461538461\n",
      "pred pos_ratio:  0.4131610576923077\n",
      "truth mean pixel:  0.15079583\n",
      "pred mean pixel:  0.1442530888777513\n",
      "0.6349317709140043\n"
     ]
    }
   ],
   "source": [
    "# search for best thresholds\n",
    "def calculate_dice(logit, truth, EMPTY_THRESHOLD=[200,1500,1500,2000], MASK_THRESHOLD=0.22, CLF_THRESHOLD=0.7, logit_clf=None):\n",
    "    n, c = truth.shape[0], truth.shape[1]\n",
    "#     h, w = truth.shape[2], truth.shape[3]\n",
    "#     logit = logit.reshape(n*c, h, w)\n",
    "#     truth = truth.reshape(n*c, h, w)\n",
    "#     logit = np.array([cv2.resize(ch, (525, 350)) for ch in logit])\n",
    "#     truth = np.array([cv2.resize(ch, (525, 350)) for ch in truth])\n",
    "    MASK_THRESHOLD = np.concatenate([MASK_THRESHOLD]*n).reshape(-1, 1)\n",
    "    \n",
    "    logit = sigmoid(logit).reshape(n*c, -1)\n",
    "    truth = truth.reshape(n*c, -1)\n",
    "    pred = (logit>MASK_THRESHOLD).astype(np.int)\n",
    "    if logit_clf is not None:\n",
    "        logit_clf = sigmoid(logit_clf).reshape(n*c, -1)\n",
    "    \n",
    "    EMPTY_THRESHOLD_4ch = np.concatenate([EMPTY_THRESHOLD]*n)#.reshape(-1, 1)\n",
    "    pred_clf = (pred.sum(axis=1)<EMPTY_THRESHOLD_4ch).astype(np.int)\n",
    "    pred[pred_clf==1, ] = 0#.reshape(-1,)\n",
    "    if logit_clf is not None:\n",
    "        pred[logit_clf.squeeze()<CLF_THRESHOLD, ] = 0\n",
    "    #pos_ratio\n",
    "    print('truth pos_ratio: ', (truth.sum(axis=1)>0).mean())\n",
    "    print('pred pos_ratio: ', (pred.sum(axis=1)>0).mean())\n",
    "    print('truth mean pixel: ', truth.mean())\n",
    "    print('pred mean pixel: ', pred.mean())\n",
    "    return dice_overall(pred, truth)#nonempty_only\n",
    "\n",
    "import copy\n",
    "\n",
    "\n",
    "#nonempty_only = False #for model trained only on nonempty-mask-channels\n",
    "\n",
    "#[[i]*4 for i in np.arange(1, 10000, 2000)] #[[i]*4 for i in np.arange(10000, 45000, 5000)]\n",
    "EMPTY_THRESHOLD_candidate = [[1]*4, [1000]*4, [5000]*4]\n",
    "CLF_THRESHOLD_candidate = [0.5, 0.6, 0.7, 0.8]\n",
    "MASK_THRESHOLD_candidate = [[.3]*4, [.35]*4, [.4]*4, [.45]*4]\n",
    "\n",
    "best_threshold_EMPTY = [1, 1, 1, 1] #[25000, 25000, 25000, 25000]\n",
    "best_threshold_CLF = 0.6 #0.7\n",
    "best_threshold_MASK = [0.3]*4 #0.3\n",
    "best_score = 0\n",
    "\n",
    "opt_mask = 0\n",
    "opt_logit_clf = 0\n",
    "opt_clf = 0\n",
    "\n",
    "if opt_mask + opt_logit_clf + opt_clf == 0:\n",
    "    print('best_threshold_EMPTY: ', best_threshold_EMPTY)\n",
    "    print('best_threshold_CLF: ', best_threshold_CLF)\n",
    "    print('best_threshold_MASK: ', best_threshold_MASK)\n",
    "    best_score = calculate_dice(preds_valid, y_valid, best_threshold_EMPTY, best_threshold_MASK, \n",
    "                         best_threshold_CLF, preds_valid_clf)\n",
    "    print(best_score)\n",
    "\n",
    "##==========================##\n",
    "## pixel 0-1 threshold ##\n",
    "if opt_mask:\n",
    "    for MASK_THRESHOLD in MASK_THRESHOLD_candidate:\n",
    "        EMPTY_THRESHOLD, CLF_THRESHOLD = best_threshold_EMPTY, best_threshold_CLF\n",
    "        dice_score = calculate_dice(preds_valid, y_valid, EMPTY_THRESHOLD, MASK_THRESHOLD, CLF_THRESHOLD, preds_valid_clf)\n",
    "        print('MASK_THRESHOLD: %s, dice_score: %f'%(str(MASK_THRESHOLD), dice_score))\n",
    "        if dice_score>best_score:\n",
    "            best_threshold_MASK = MASK_THRESHOLD\n",
    "            best_score = dice_score\n",
    "\n",
    "##==========================##\n",
    "## logit clf threshold\n",
    "if opt_logit_clf:\n",
    "    for CLF_THRESHOLD in CLF_THRESHOLD_candidate:\n",
    "        EMPTY_THRESHOLD, MASK_THRESHOLD = best_threshold_EMPTY, best_threshold_MASK\n",
    "        dice_score = calculate_dice(preds_valid, y_valid, EMPTY_THRESHOLD, MASK_THRESHOLD, CLF_THRESHOLD, preds_valid_clf)\n",
    "        print('CLF_THRESHOLD: %s, dice_score: %f'%(str(CLF_THRESHOLD), dice_score))\n",
    "        if dice_score>best_score:\n",
    "            best_threshold_CLF = CLF_THRESHOLD\n",
    "            best_score = dice_score\n",
    "\n",
    "##==========================##\n",
    "## remove pixel when sum<threshold ##\n",
    "if opt_clf:\n",
    "    for EMPTY_THRESHOLD in tqdm_notebook(EMPTY_THRESHOLD_candidate):\n",
    "        MASK_THRESHOLD, CLF_THRESHOLD = best_threshold_MASK, best_threshold_CLF\n",
    "        dice_score = calculate_dice(preds_valid, y_valid, EMPTY_THRESHOLD, MASK_THRESHOLD, CLF_THRESHOLD, preds_valid_clf)\n",
    "        print('EMPTY_THRESHOLD: %s, dice_score: %f'%(str(EMPTY_THRESHOLD), dice_score))\n",
    "        if dice_score>best_score:\n",
    "            best_threshold_EMPTY = copy.deepcopy(EMPTY_THRESHOLD)\n",
    "            best_score = dice_score"
   ]
  },
  {
   "cell_type": "code",
   "execution_count": 10,
   "metadata": {},
   "outputs": [
    {
     "data": {
      "text/plain": [
       "([1, 1, 1, 1], [0.3, 0.3, 0.3, 0.3], 0.7, 0.6328574237403071)"
      ]
     },
     "execution_count": 10,
     "metadata": {},
     "output_type": "execute_result"
    }
   ],
   "source": [
    "best_threshold_EMPTY, best_threshold_MASK, best_threshold_CLF, best_score\n",
    "\n",
    "#[34000, 36000, 34000, 20000], [0.7, 0.7, 0.7, 0.7], 0.656845819992622"
   ]
  },
  {
   "cell_type": "code",
   "execution_count": null,
   "metadata": {},
   "outputs": [],
   "source": []
  },
  {
   "cell_type": "code",
   "execution_count": 13,
   "metadata": {},
   "outputs": [],
   "source": [
    "# ## experiment?\n",
    "# best_threshold_EMPTY, best_threshold_MASK, best_score = ([50000, 50000, 50000, 50000], \n",
    "#                                                          [0.65, 0.65, 0.65, 0.65], None)\n",
    "# best_threshold_EMPTY, best_threshold_MASK, best_score"
   ]
  },
  {
   "cell_type": "code",
   "execution_count": 3,
   "metadata": {},
   "outputs": [],
   "source": [
    "def predict_mask(logit, EMPTY_THRESHOLD, MASK_THRESHOLD, CLF_THRESHOLD=0.7, logit_clf=None, use_sigmoid=True):\n",
    "    \"\"\"Transform each prediction into mask.\n",
    "    input shape: (256, 256)\n",
    "    \"\"\"\n",
    "    #pred mask 0-1 pixel-wise\n",
    "    #n = logit.shape[0]\n",
    "    #IMG_SIZE = logit.shape[-1] #256\n",
    "    #EMPTY_THRESHOLD = 100.0*(IMG_SIZE/128.0)**2 #count of predicted mask pixles<threshold, predict as empty mask image\n",
    "    #MASK_THRESHOLD = 0.22\n",
    "    #logit = torch.sigmoid(torch.from_numpy(logit)).view(n, -1)\n",
    "    #pred = (logit>MASK_THRESHOLD).long()\n",
    "    #pred[pred.sum(dim=1) < EMPTY_THRESHOLD, ] = 0 #bug here, found it, the bug is input shape is (256, 256) not (16,256,256)\n",
    "    \n",
    "    #logit = cv2.resize(logit, (525, 350))\n",
    "    if use_sigmoid:\n",
    "        logit = sigmoid(logit)#.reshape(n, -1)\n",
    "        if logit_clf is not None:\n",
    "            logit_clf = sigmoid(logit_clf)\n",
    "    pred = (logit>MASK_THRESHOLD).astype(np.int)\n",
    "    if pred.sum() < EMPTY_THRESHOLD:\n",
    "        return np.zeros(pred.shape).astype(np.int)\n",
    "    if logit_clf is not None and logit_clf<CLF_THRESHOLD:\n",
    "        return np.zeros(pred.shape).astype(np.int)\n",
    "    else:\n",
    "        return pred"
   ]
  },
  {
   "cell_type": "code",
   "execution_count": null,
   "metadata": {},
   "outputs": [],
   "source": []
  },
  {
   "cell_type": "code",
   "execution_count": 19,
   "metadata": {
    "scrolled": false
   },
   "outputs": [
    {
     "data": {
      "image/png": "[encoded data removed]",
      "text/plain": [
       "<Figure size 720x576 with 8 Axes>"
      ]
     },
     "metadata": {
      "needs_background": "light"
     },
     "output_type": "display_data"
    },
    {
     "data": {
      "image/png": "[encoded data removed]",
      "text/plain": [
       "<Figure size 720x576 with 8 Axes>"
      ]
     },
     "metadata": {
      "needs_background": "light"
     },
     "output_type": "display_data"
    },
    {
     "data": {
      "image/png": "[encoded data removed]",
      "text/plain": [
       "<Figure size 720x576 with 8 Axes>"
      ]
     },
     "metadata": {
      "needs_background": "light"
     },
     "output_type": "display_data"
    },
    {
     "data": {
      "image/png": "[encoded data removed]",
      "text/plain": [
       "<Figure size 720x576 with 8 Axes>"
      ]
     },
     "metadata": {
      "needs_background": "light"
     },
     "output_type": "display_data"
    },
    {
     "data": {
      "image/png": "[encoded data removed]",
      "text/plain": [
       "<Figure size 720x576 with 8 Axes>"
      ]
     },
     "metadata": {
      "needs_background": "light"
     },
     "output_type": "display_data"
    },
    {
     "data": {
      "image/png": "[encoded data removed]",
      "text/plain": [
       "<Figure size 720x576 with 8 Axes>"
      ]
     },
     "metadata": {
      "needs_background": "light"
     },
     "output_type": "display_data"
    },
    {
     "data": {
      "image/png": "[encoded data removed]",
      "text/plain": [
       "<Figure size 720x576 with 8 Axes>"
      ]
     },
     "metadata": {
      "needs_background": "light"
     },
     "output_type": "display_data"
    },
    {
     "data": {
      "image/png": "[encoded data removed]",
      "text/plain": [
       "<Figure size 720x576 with 8 Axes>"
      ]
     },
     "metadata": {
      "needs_background": "light"
     },
     "output_type": "display_data"
    },
    {
     "data": {
      "image/png": "[encoded data removed]",
      "text/plain": [
       "<Figure size 720x576 with 8 Axes>"
      ]
     },
     "metadata": {
      "needs_background": "light"
     },
     "output_type": "display_data"
    },
    {
     "data": {
      "image/png": "[encoded data removed]",
      "text/plain": [
       "<Figure size 720x576 with 8 Axes>"
      ]
     },
     "metadata": {
      "needs_background": "light"
     },
     "output_type": "display_data"
    },
    {
     "data": {
      "image/png": "[encoded data removed]",
      "text/plain": [
       "<Figure size 720x576 with 8 Axes>"
      ]
     },
     "metadata": {
      "needs_background": "light"
     },
     "output_type": "display_data"
    }
   ],
   "source": [
    "## visualize predicted masks\n",
    "start = 3\n",
    "rows = 10\n",
    "\n",
    "#cmaps = {0: \"Reds\", 1: \"Blues\", 2: \"Greens\", 3: \"Oranges\"}\n",
    "titles = {0: \"Class=1\", 1: \"Class=2\", 2: \"Class=3\", 3: \"Class=4\"}\n",
    "\n",
    "cnt = 0\n",
    "for idx, (img, mask) in enumerate(val_dl):\n",
    "    if idx<start:\n",
    "        continue\n",
    "    mask = mask.numpy()\n",
    "    img = img.numpy()\n",
    "    for j in range(BATCH_SIZE):#BATCH_SIZE=8\n",
    "        cnt+=1\n",
    "        fig, axes = plt.subplots(ncols=8, figsize=(10, 8))\n",
    "        for ch in range(4):\n",
    "            if preds_valid_clf is not None:\n",
    "                _preds_valid_clf = preds_valid_clf[idx*BATCH_SIZE+j][ch]\n",
    "            else:\n",
    "                _preds_valid_clf = None\n",
    "            pred_mask = predict_mask(preds_valid[idx*BATCH_SIZE+j][ch], best_threshold_EMPTY[ch], \n",
    "                                     best_threshold_MASK[ch], best_threshold_CLF, _preds_valid_clf)\n",
    "            #axes[ch*2].imshow(img[j][0], cmap='gray')\n",
    "            axes[ch*2].imshow(mask[j][ch], cmap='gray', alpha=0.2)\n",
    "            axes[ch*2].set_title('Target')\n",
    "            \n",
    "            #axes[ch*2+1].imshow(img[j][0], cmap='gray')\n",
    "            axes[ch*2+1].imshow(pred_mask, cmap='gray', alpha=0.2)\n",
    "            axes[ch*2+1].set_title('Predictions')\n",
    "        if cnt>rows:\n",
    "            break\n",
    "    if cnt>rows:\n",
    "            break"
   ]
  },
  {
   "cell_type": "code",
   "execution_count": null,
   "metadata": {},
   "outputs": [],
   "source": []
  },
  {
   "cell_type": "markdown",
   "metadata": {},
   "source": [
    "## predict the testset"
   ]
  },
  {
   "cell_type": "code",
   "execution_count": 4,
   "metadata": {},
   "outputs": [],
   "source": [
    "import glob\n",
    "from dataset.dataset import prepare_testset"
   ]
  },
  {
   "cell_type": "code",
   "execution_count": 5,
   "metadata": {},
   "outputs": [
    {
     "data": {
      "text/plain": [
       "(3698, '10055ff')"
      ]
     },
     "execution_count": 5,
     "metadata": {},
     "output_type": "execute_result"
    }
   ],
   "source": [
    "test_fnames = [f.split('/')[-1][:-4] for f in glob.glob('../data/raw/test/*')]\n",
    "len(test_fnames), test_fnames[0]"
   ]
  },
  {
   "cell_type": "code",
   "execution_count": 6,
   "metadata": {},
   "outputs": [],
   "source": [
    "test_dl = prepare_testset(BATCH_SIZE, NUM_WORKERS, IMG_SIZE)"
   ]
  },
  {
   "cell_type": "markdown",
   "metadata": {},
   "source": [
    "### here predict by single model"
   ]
  },
  {
   "cell_type": "code",
   "execution_count": 23,
   "metadata": {},
   "outputs": [
    {
     "name": "stdout",
     "output_type": "stream",
     "text": [
      "use TTA\n",
      "CPU times: user 27min 11s, sys: 7min 48s, total: 35min\n",
      "Wall time: 3min 40s\n"
     ]
    }
   ],
   "source": [
    "%%time\n",
    "preds_test, preds_test_clf = predict_proba(net, test_dl, device, multi_gpu=multi_gpu, mode='test', tta=True)"
   ]
  },
  {
   "cell_type": "code",
   "execution_count": 24,
   "metadata": {},
   "outputs": [
    {
     "data": {
      "text/plain": [
       "((3698, 4, 512, 768), (3698, 4))"
      ]
     },
     "execution_count": 24,
     "metadata": {},
     "output_type": "execute_result"
    }
   ],
   "source": [
    "preds_test.shape, preds_test_clf.shape"
   ]
  },
  {
   "cell_type": "code",
   "execution_count": 25,
   "metadata": {},
   "outputs": [],
   "source": [
    "# ## visualize predicted masks\n",
    "# start = 0\n",
    "# total = 19\n",
    "# ch=0\n",
    "\n",
    "# fig=plt.figure(figsize=(15, 20))\n",
    "# cnt = 0\n",
    "# for idx, img in enumerate(test_dl):\n",
    "#     if idx<start:\n",
    "#         continue\n",
    "#     for j in range(BATCH_SIZE):#BATCH_SIZE=8\n",
    "#         cnt+=1\n",
    "#         if preds_test_clf is not None:\n",
    "#             _preds_test_clf = preds_test_clf[idx*BATCH_SIZE+j][ch]\n",
    "#         else:\n",
    "#             _preds_test_clf = None\n",
    "#         pred_mask = predict_mask(preds_test[idx*BATCH_SIZE+j][ch], best_threshold_EMPTY[ch], \n",
    "#                                  best_threshold_MASK[ch], best_threshold_CLF, _preds_test_clf)\n",
    "#         #if pred_mask.float().mean()==0:\n",
    "#         #    continue\n",
    "#         ax = fig.add_subplot(5, 4, cnt)\n",
    "#         plt.imshow(img[j][0].numpy())\n",
    "#         plt.imshow(pred_mask, alpha=0.2, cmap=\"gray\")\n",
    "#         if pred_mask.sum()>0:\n",
    "#             plt.title('Predict Mask')\n",
    "#         else:\n",
    "#             plt.title('Predict Empty')\n",
    "#         if cnt>total:\n",
    "#             break\n",
    "#     if cnt>total:\n",
    "#             break"
   ]
  },
  {
   "cell_type": "code",
   "execution_count": null,
   "metadata": {},
   "outputs": [],
   "source": []
  },
  {
   "cell_type": "markdown",
   "metadata": {},
   "source": [
    "## here ensemble sigmoids for different models"
   ]
  },
  {
   "cell_type": "code",
   "execution_count": 7,
   "metadata": {},
   "outputs": [],
   "source": [
    "device = set_n_get_device(\"0,1,2,3\", data_device_id=\"cuda:0\")#0, 1, 2, 3, IMPORTANT: data_device_id is set to free gpu for storing the model, e.g.\"cuda:1\"\n",
    "multi_gpu = [0,1,2,3] #None#[0, 1]#use 2 gpus\n",
    "\n",
    "SEED = None\n",
    "debug = False# if True, load 100 samples\n",
    "IMG_SIZE = (512, 768) #(512, 768)\n",
    "BATCH_SIZE = 64\n",
    "NUM_WORKERS = 24\n",
    "#torch.cuda.manual_seed_all(SEED)"
   ]
  },
  {
   "cell_type": "code",
   "execution_count": 8,
   "metadata": {},
   "outputs": [],
   "source": [
    "# checkpoint_path_list = ['../checkpoint/deeplabv3plus_resnet_512x768_v6_seed2001/best.pth.tar', \n",
    "#                         '../checkpoint/deeplabv3plus_resnet_512x768_v6_seed2003/best.pth.tar', \n",
    "#                         '../checkpoint/deeplabv3plus_resnet_512x768_v6_seed2008/best.pth.tar'\n",
    "#                        ]#[35000, 35000, 35000, 35000], [0.6, 0.6, 0.6, 0.6], pos_ratio=.450, LB=.659\n",
    "\n",
    "# checkpoint_path_list = ['../checkpoint/deeplabv3plus_resnet_400x600_v7_seed2013/best.pth.tar', \n",
    "#                         '../checkpoint/deeplabv3plus_resnet_400x600_v7_seed2014/best.pth.tar', \n",
    "#                         '../checkpoint/deeplabv3plus_resnet_400x600_v7_seed2015/best.pth.tar'\n",
    "#                        ]#[20000, 20000, 20000, 20000], [0.55, 0.55, 0.55, 0.55], pos_ratio=.465, LB=.656\n",
    "\n",
    "# checkpoint_path_list = ['../checkpoint/deeplabv3plus_resnet_512x768_v4_seed4567/best.pth.tar', \n",
    "#                         '../checkpoint/deeplabv3plus_resnet_512x768_v4_seed7890/best.pth.tar', \n",
    "#                         '../checkpoint/deeplabv3plus_resnet_512x768_v4_seed8901/best.pth.tar'\n",
    "#                        ]#[30000, 30000, 30000, 30000], [0.6, 0.6, 0.6, 0.6], pos_ratio=.455, LB=.658\n",
    "\n",
    "# checkpoint_path_list = ['../checkpoint/deeplabv3plus_resnet_512x768_v6_seed2001/best.pth.tar', \n",
    "#                         '../checkpoint/deeplabv3plus_resnet_512x768_v10_seed2021/best.pth.tar', \n",
    "#                         '../checkpoint/deeplabv3plus_resnet_512x768_v4_seed4567/best.pth.tar'\n",
    "#                        ]#[30000, 30000, 30000, 30000], [0.6, 0.6, 0.6, 0.6], pos_ratio=.444, LB=.662\n",
    "\n",
    "# checkpoint_path_list = ['../checkpoint/fpn_resnet34_512x768_v1_seed2034/best.pth.tar', \n",
    "#                         '../checkpoint/fpn_resnet34_512x768_v1_seed2035/best.pth.tar', \n",
    "#                         '../checkpoint/fpn_resnet34_512x768_v1_seed2036/best.pth.tar', \n",
    "#                         '../checkpoint/fpn_resnet34_512x768_v1_seed2037/best.pth.tar', \n",
    "#                         '../checkpoint/fpn_resnet34_512x768_v1_seed2038/best.pth.tar'\n",
    "#                        ]#[25000, 25000, 25000, 25000], [0.6, 0.6, 0.6, 0.6], pos_ratio=.412, LB=.655\n",
    "\n",
    "# checkpoint_path_list = ['../checkpoint/fpn_resnet34_1024x1536_v1_seed2043/best.pth.tar', \n",
    "#                         '../checkpoint/fpn_resnet34_1024x1536_v1_seed2044/best.pth.tar', \n",
    "#                         '../checkpoint/fpn_resnet34_1024x1536_v1_seed2045//best.pth.tar', \n",
    "#                        ]#[1, 1, 1, 1], [0.3, 0.3, 0.3, 0.3], 0.65, pos_ratio=., LB=.6577\n",
    "\n",
    "# checkpoint_path_list = ['../checkpoint/deeplabv3plus_resnet_512x768_v13_seed2047/best.pth.tar', \n",
    "#                         '../checkpoint/deeplabv3plus_resnet_512x768_v13_seed2048/best.pth.tar', \n",
    "#                         '../checkpoint/deeplabv3plus_resnet_512x768_v13_seed2049/best.pth.tar', \n",
    "#                         '../checkpoint/deeplabv3plus_resnet_512x768_v13_seed2050/best.pth.tar', \n",
    "#                         '../checkpoint/deeplabv3plus_resnet_512x768_v13_seed2051/best.pth.tar'\n",
    "#                        ]#[1, 1, 1, 1], [0.3, 0.3, 0.3, 0.3], 0.7, pos_ratio=.411, LB=.6633\n",
    "\n",
    "# checkpoint_path_list = ['../checkpoint/deeplabv3plus_resnet_512x768_v13_seed2048/best.pth.tar', \n",
    "#                         '../checkpoint/deeplabv3plus_resnet_512x768_v13_seed2050/best.pth.tar', \n",
    "#                         '../checkpoint/deeplabv3plus_resnet_512x768_v13_seed2051/best.pth.tar'\n",
    "#                        ]#[1, 1, 1, 1], [0.3, 0.3, 0.3, 0.3], 0.72, pos_ratio=.404, LB=.659\n",
    "\n",
    "# checkpoint_path_list = ['../checkpoint/unet_resnet34_512x768_v1_seed2060/best.pth.tar', \n",
    "#                         '../checkpoint/unet_resnet34_512x768_v1_seed2061/best.pth.tar', \n",
    "#                         '../checkpoint/unet_resnet34_512x768_v1_seed2062/best.pth.tar'\n",
    "#                        ]#[1, 1, 1, 1], [0.4, 0.4, 0.4, 0.4], 0.7, pos_ratio=.403, LB=.6574\n",
    "\n",
    "# checkpoint_path_list = ['../checkpoint/fpn_resnet34_1024x1536_v1_seed2043/best.pth.tar', \n",
    "#                         '../checkpoint/fpn_resnet34_1024x1536_v1_seed2044/best.pth.tar', \n",
    "#                         '../checkpoint/fpn_resnet34_1024x1536_v1_seed2045//best.pth.tar', \n",
    "#                         '../checkpoint/fpn_resnet34_1024x1536_v1_seed2052/best.pth.tar', \n",
    "#                         '../checkpoint/fpn_resnet34_1024x1536_v1_seed2053/best.pth.tar'\n",
    "#                        ]#[1, 1, 1, 1], [0.3, 0.3, 0.3, 0.3], 0.66, pos_ratio=.417, LB=.6574\n",
    "\n",
    "# checkpoint_path_list = ['../checkpoint/pspnet_resnet34_512x768_v1_seed2070/best.pth.tar', \n",
    "#                         '../checkpoint/pspnet_resnet34_512x768_v1_seed2071/best.pth.tar', \n",
    "#                         '../checkpoint/pspnet_resnet34_512x768_v1_seed2072/best.pth.tar', \n",
    "#                         '../checkpoint/pspnet_resnet34_512x768_v1_seed2073/best.pth.tar', \n",
    "#                         '../checkpoint/pspnet_resnet34_512x768_v1_seed2074/best.pth.tar'\n",
    "#                        ]#[1, 1, 1, 1], [0.3, 0.3, 0.3, 0.3], 0.62, pos_ratio=.405, LB=.6561\n",
    "\n",
    "# checkpoint_path_list = ['../checkpoint/unet_resnet34_384x576_v1_seed2080/best.pth.tar', \n",
    "#                         '../checkpoint/unet_resnet34_384x576_v1_seed2081/best.pth.tar', \n",
    "#                         '../checkpoint/unet_resnet34_384x576_v1_seed2082/best.pth.tar', \n",
    "#                         '../checkpoint/unet_resnet34_384x576_v1_seed2083/best.pth.tar', \n",
    "#                         '../checkpoint/unet_resnet34_384x576_v1_seed2084/best.pth.tar'\n",
    "#                        ]#[1, 1, 1, 1], [0.32, 0.32, 0.32, 0.32], 0.78, pos_ratio=.405, LB=.6637\n",
    "\n",
    "# checkpoint_path_list = ['../checkpoint/fpn_resnet34_384x576_v1_seed2100/best.pth.tar', \n",
    "#                         '../checkpoint/fpn_resnet34_384x576_v1_seed2101/best.pth.tar', \n",
    "#                         '../checkpoint/fpn_resnet34_384x576_v1_seed2102/best.pth.tar', \n",
    "#                         '../checkpoint/fpn_resnet34_384x576_v1_seed2103/best.pth.tar', \n",
    "#                         '../checkpoint/fpn_resnet34_384x576_v1_seed2104/best.pth.tar'\n",
    "#                        ]#[1, 1, 1, 1], [0.3, 0.3, 0.3, 0.3], 0.75, pos_ratio=.417, LB=.6568\n",
    "\n",
    "# checkpoint_path_list = ['../checkpoint/pspnet_resnet34_384x576_v1_seed2090/best.pth.tar', \n",
    "#                         '../checkpoint/pspnet_resnet34_384x576_v1_seed2091/best.pth.tar', \n",
    "#                         '../checkpoint/pspnet_resnet34_384x576_v1_seed2092/best.pth.tar', \n",
    "#                         '../checkpoint/pspnet_resnet34_384x576_v1_seed2093/best.pth.tar', \n",
    "#                         '../checkpoint/pspnet_resnet34_384x576_v1_seed2094/best.pth.tar'\n",
    "#                        ]#[1, 1, 1, 1], [0.3, 0.3, 0.3, 0.3], 0.65, pos_ratio=.402, mean_pixel=.171, LB=.6523\n",
    "\n",
    "# checkpoint_path_list = ['../checkpoint/fpn_resnet34_512x768_v1_seed2120/best.pth.tar', \n",
    "#                         '../checkpoint/fpn_resnet34_512x768_v1_seed2121/best.pth.tar', \n",
    "#                         '../checkpoint/fpn_resnet34_512x768_v1_seed2122/best.pth.tar', \n",
    "#                         '../checkpoint/fpn_resnet34_512x768_v1_seed2123/best.pth.tar', \n",
    "#                         '../checkpoint/fpn_resnet34_512x768_v1_seed2124/best.pth.tar'\n",
    "#                        ]#[1, 1, 1, 1], [0.3, 0.3, 0.3, 0.3], 0.68, pos_ratio=.396, mean_pixel=.152, 8.48MB, LB=.6671\n",
    "\n",
    "checkpoint_path_list = ['../checkpoint/fpn_resnet34_512x768_v1_seed2150/best.pth.tar', \n",
    "                        '../checkpoint/fpn_resnet34_512x768_v1_seed2151/best.pth.tar', \n",
    "                        '../checkpoint/fpn_resnet34_512x768_v1_seed2152/best.pth.tar', \n",
    "                        '../checkpoint/fpn_resnet34_512x768_v1_seed2153/best.pth.tar', \n",
    "                        '../checkpoint/fpn_resnet34_512x768_v1_seed2154/best.pth.tar'\n",
    "                       ]#[1, 1, 1, 1], [0.3, 0.3, 0.3, 0.3], 0.68, pos_ratio=.390, mean_pixel=.152, 8.35MB, LB=.6650"
   ]
  },
  {
   "cell_type": "code",
   "execution_count": 9,
   "metadata": {},
   "outputs": [],
   "source": [
    "#from model.deeplab_model_kaggler.deeplab import DeepLab, predict_proba\n",
    "from model.model_resnet_fpn import FPNResNet34, predict_proba\n",
    "#from model.model_plain_unet import UNetResNet34, predict_proba\n",
    "#from model.model_pspnet import PSPNet, predict_proba"
   ]
  },
  {
   "cell_type": "code",
   "execution_count": 10,
   "metadata": {},
   "outputs": [
    {
     "name": "stdout",
     "output_type": "stream",
     "text": [
      "Loading checkpoint_path:  ../checkpoint/fpn_resnet34_512x768_v1_seed2150/best.pth.tar\n",
      "use TTA\n",
      "Complete prediction for checkpoint_path:  ../checkpoint/fpn_resnet34_512x768_v1_seed2150/best.pth.tar\n",
      "\n",
      "Loading checkpoint_path:  ../checkpoint/fpn_resnet34_512x768_v1_seed2151/best.pth.tar\n",
      "use TTA\n",
      "Complete prediction for checkpoint_path:  ../checkpoint/fpn_resnet34_512x768_v1_seed2151/best.pth.tar\n",
      "\n",
      "Loading checkpoint_path:  ../checkpoint/fpn_resnet34_512x768_v1_seed2152/best.pth.tar\n",
      "use TTA\n",
      "Complete prediction for checkpoint_path:  ../checkpoint/fpn_resnet34_512x768_v1_seed2152/best.pth.tar\n",
      "\n",
      "Loading checkpoint_path:  ../checkpoint/fpn_resnet34_512x768_v1_seed2153/best.pth.tar\n",
      "use TTA\n",
      "Complete prediction for checkpoint_path:  ../checkpoint/fpn_resnet34_512x768_v1_seed2153/best.pth.tar\n",
      "\n",
      "Loading checkpoint_path:  ../checkpoint/fpn_resnet34_512x768_v1_seed2154/best.pth.tar\n",
      "use TTA\n",
      "Complete prediction for checkpoint_path:  ../checkpoint/fpn_resnet34_512x768_v1_seed2154/best.pth.tar\n",
      "\n",
      "CPU times: user 2h 10min 6s, sys: 40min 49s, total: 2h 50min 56s\n",
      "Wall time: 15min 55s\n"
     ]
    }
   ],
   "source": [
    "%%time\n",
    "## run\n",
    "preds_test = None\n",
    "preds_test_clf = None\n",
    "\n",
    "for checkpoint_path in checkpoint_path_list:\n",
    "    print('Loading checkpoint_path: ', checkpoint_path)\n",
    "    if 'deeplab' in checkpoint_path:\n",
    "        net = DeepLab(num_classes=4,\n",
    "                  backbone='resnet',#resnet34, resnet101\n",
    "                  output_stride=16,#default 16, 8\n",
    "                  sync_bn=None,\n",
    "                  freeze_bn=False,\n",
    "                  debug=False, \n",
    "                  clf_path=True\n",
    "                 ).cuda(device=device)\n",
    "    elif 'fpn' in checkpoint_path:\n",
    "        net = FPNResNet34(debug=False, downscale=False).cuda(device=device)#downscale=False!!!!!!!!!!\n",
    "    elif 'unet' in checkpoint_path:\n",
    "        net = UNetResNet34(debug=False).cuda(device=device)\n",
    "    elif 'psp' in checkpoint_path:\n",
    "        net = PSPNet(debug=False).cuda(device=device)\n",
    "    \n",
    "    net, _ = load_checkpoint(checkpoint_path, net)\n",
    "    if multi_gpu is not None:\n",
    "        net = nn.DataParallel(net, device_ids=multi_gpu)\n",
    "    \n",
    "    ##predict\n",
    "    _preds_test, _preds_test_clf = predict_proba(net, test_dl, device, multi_gpu=multi_gpu, mode='test', tta=True)\n",
    "    _preds_test = sigmoid(_preds_test)\n",
    "    _preds_test_clf = sigmoid(_preds_test_clf)\n",
    "    if preds_test is None:\n",
    "        preds_test = _preds_test\n",
    "        preds_test_clf = _preds_test_clf\n",
    "    else:\n",
    "        preds_test += _preds_test\n",
    "        preds_test_clf += _preds_test_clf\n",
    "    print('Complete prediction for checkpoint_path: ', checkpoint_path)\n",
    "    print()\n",
    "\n",
    "preds_test /= len(checkpoint_path_list)\n",
    "preds_test_clf /= len(checkpoint_path_list)"
   ]
  },
  {
   "cell_type": "code",
   "execution_count": 34,
   "metadata": {},
   "outputs": [],
   "source": [
    "## for second-stage ensemble of (ensemble of model architecture)\n",
    "\n",
    "#preds_test1 = copy.deepcopy(preds_test)\n",
    "#preds_test2 = copy.deepcopy(preds_test)\n",
    "\n",
    "#preds_test = (preds_test1 + preds_test2) / 2"
   ]
  },
  {
   "cell_type": "code",
   "execution_count": 11,
   "metadata": {},
   "outputs": [
    {
     "data": {
      "text/plain": [
       "(3698, 4, 512, 768)"
      ]
     },
     "execution_count": 11,
     "metadata": {},
     "output_type": "execute_result"
    }
   ],
   "source": [
    "preds_test.shape"
   ]
  },
  {
   "cell_type": "code",
   "execution_count": 12,
   "metadata": {},
   "outputs": [],
   "source": [
    "# # best_threshold_EMPTY, best_threshold_MASK, best_score = ([35000, 35000, 35000, 35000], \n",
    "# #                                                          [0.6, 0.6, 0.6, 0.6], None)\n",
    "\n",
    "# best_threshold_EMPTY, best_threshold_MASK, best_score = ([25000, 25000, 25000, 25000], \n",
    "#                                                          [0.6, 0.6, 0.6, 0.6], None)\n",
    "# best_threshold_EMPTY, best_threshold_MASK, best_score"
   ]
  },
  {
   "cell_type": "code",
   "execution_count": 20,
   "metadata": {},
   "outputs": [
    {
     "data": {
      "text/plain": [
       "([1, 1, 1, 1], [0.3, 0.3, 0.3, 0.3], 0.68)"
      ]
     },
     "execution_count": 20,
     "metadata": {},
     "output_type": "execute_result"
    }
   ],
   "source": [
    "best_threshold_EMPTY, best_threshold_MASK, best_threshold_CLF = \\\n",
    "[1, 1, 1, 1], [0.3, 0.3, 0.3, 0.3], 0.68\n",
    "\n",
    "best_threshold_EMPTY, best_threshold_MASK, best_threshold_CLF"
   ]
  },
  {
   "cell_type": "code",
   "execution_count": null,
   "metadata": {},
   "outputs": [],
   "source": []
  },
  {
   "cell_type": "markdown",
   "metadata": {},
   "source": [
    "## build submission"
   ]
  },
  {
   "cell_type": "code",
   "execution_count": 13,
   "metadata": {},
   "outputs": [],
   "source": [
    "import PIL\n",
    "from dataset.mask_functions import mask2rle"
   ]
  },
  {
   "cell_type": "code",
   "execution_count": 21,
   "metadata": {},
   "outputs": [
    {
     "data": {
      "application/vnd.jupyter.widget-view+json": {
       "model_id": "31f55196a5ff4cbc8e74bd1ba9f13831",
       "version_major": 2,
       "version_minor": 0
      },
      "text/plain": [
       "HBox(children=(IntProgress(value=0, max=3698), HTML(value='')))"
      ]
     },
     "metadata": {},
     "output_type": "display_data"
    },
    {
     "name": "stdout",
     "output_type": "stream",
     "text": [
      "\n",
      "mean_pixel:  0.15188780375938457\n",
      "CPU times: user 1min 16s, sys: 5.28 s, total: 1min 21s\n",
      "Wall time: 38.5 s\n"
     ]
    }
   ],
   "source": [
    "%%time\n",
    "\n",
    "ensemble = True #False#True\n",
    "\n",
    "mean_pixel = 0.0\n",
    "\n",
    "#### Generate rle encodings\n",
    "rles = []\n",
    "for idx in tqdm_notebook(range(preds_test.shape[0])):#p is logit from model\n",
    "    p = preds_test[idx]\n",
    "    if preds_test_clf is not None:\n",
    "        p2 = preds_test_clf[idx]\n",
    "    else:\n",
    "        p2 = [None]*4\n",
    "    for ch in range(4):\n",
    "        pred_mask = predict_mask(p[ch], best_threshold_EMPTY[ch], best_threshold_MASK[ch], \n",
    "                                 best_threshold_CLF, p2[ch], use_sigmoid=(not ensemble))#False ensemble\n",
    "        if pred_mask.sum()>0:#predicted non-empty mask\n",
    "            mean_pixel += pred_mask.mean()\n",
    "            pred_mask = cv2.resize(pred_mask.astype('float32'), (525, 350))\n",
    "            pred_mask = (pred_mask>0.5).astype(np.uint8)\n",
    "            rles.append(mask2rle(pred_mask))\n",
    "        else:\n",
    "            rles.append('')\n",
    "print('mean_pixel: ', mean_pixel/(preds_test.shape[0]*4))"
   ]
  },
  {
   "cell_type": "code",
   "execution_count": 22,
   "metadata": {},
   "outputs": [
    {
     "name": "stdout",
     "output_type": "stream",
     "text": [
      "14792\n"
     ]
    }
   ],
   "source": [
    "img_id_ch = []\n",
    "for fname in test_fnames:\n",
    "    for name in ['Fish', 'Flower', 'Gravel', 'Sugar']:\n",
    "        img_id_ch.append(fname+'.jpg_%s'%name)\n",
    "\n",
    "sub_df = pd.DataFrame({'Image_Label': img_id_ch, 'EncodedPixels': rles})\n",
    "print(len(sub_df.index))"
   ]
  },
  {
   "cell_type": "code",
   "execution_count": 23,
   "metadata": {},
   "outputs": [
    {
     "data": {
      "text/html": [
       "<div>\n",
       "<style scoped>\n",
       "    .dataframe tbody tr th:only-of-type {\n",
       "        vertical-align: middle;\n",
       "    }\n",
       "\n",
       "    .dataframe tbody tr th {\n",
       "        vertical-align: top;\n",
       "    }\n",
       "\n",
       "    .dataframe thead th {\n",
       "        text-align: right;\n",
       "    }\n",
       "</style>\n",
       "<table border=\"1\" class=\"dataframe\">\n",
       "  <thead>\n",
       "    <tr style=\"text-align: right;\">\n",
       "      <th></th>\n",
       "      <th>Image_Label</th>\n",
       "      <th>EncodedPixels</th>\n",
       "    </tr>\n",
       "  </thead>\n",
       "  <tbody>\n",
       "    <tr>\n",
       "      <th>0</th>\n",
       "      <td>10055ff.jpg_Fish</td>\n",
       "      <td></td>\n",
       "    </tr>\n",
       "    <tr>\n",
       "      <th>1</th>\n",
       "      <td>10055ff.jpg_Flower</td>\n",
       "      <td></td>\n",
       "    </tr>\n",
       "    <tr>\n",
       "      <th>2</th>\n",
       "      <td>10055ff.jpg_Gravel</td>\n",
       "      <td>522 33 857 68 1203 90 1550 95 1870 2 1887 114 ...</td>\n",
       "    </tr>\n",
       "    <tr>\n",
       "      <th>3</th>\n",
       "      <td>10055ff.jpg_Sugar</td>\n",
       "      <td>5 136 242 90 353 150 586 103 702 155 929 113 1...</td>\n",
       "    </tr>\n",
       "    <tr>\n",
       "      <th>4</th>\n",
       "      <td>6e54759.jpg_Fish</td>\n",
       "      <td></td>\n",
       "    </tr>\n",
       "  </tbody>\n",
       "</table>\n",
       "</div>"
      ],
      "text/plain": [
       "          Image_Label                                      EncodedPixels\n",
       "0    10055ff.jpg_Fish                                                   \n",
       "1  10055ff.jpg_Flower                                                   \n",
       "2  10055ff.jpg_Gravel  522 33 857 68 1203 90 1550 95 1870 2 1887 114 ...\n",
       "3   10055ff.jpg_Sugar  5 136 242 90 353 150 586 103 702 155 929 113 1...\n",
       "4    6e54759.jpg_Fish                                                   "
      ]
     },
     "execution_count": 23,
     "metadata": {},
     "output_type": "execute_result"
    }
   ],
   "source": [
    "sub_df.head()"
   ]
  },
  {
   "cell_type": "code",
   "execution_count": 25,
   "metadata": {
    "scrolled": true
   },
   "outputs": [],
   "source": [
    "# def summary_test_pred(preds_test, preds_test_clf, \n",
    "#                       best_threshold_MASK, best_threshold_EMPTY, best_threshold_CLF, use_sigmoid=True):\n",
    "#     if use_sigmoid:\n",
    "#         preds_test = sigmoid(preds_test)#.reshape(n, -1)\n",
    "#         if preds_test_clf is not None:\n",
    "#             preds_test_clf = sigmoid(preds_test_clf)\n",
    "#     n, c = preds_test.shape[0], preds_test.shape[1]\n",
    "#     MASK_THRESHOLD = np.concatenate([best_threshold_MASK]*n).reshape(-1, 1)\n",
    "#     pred = (preds_test.reshape(n*c, -1)>MASK_THRESHOLD).astype(np.int)\n",
    "#     EMPTY_THRESHOLD_4ch = np.concatenate([best_threshold_EMPTY]*n)#.reshape(-1, 1)\n",
    "#     pred_clf = (pred.sum(axis=1)<EMPTY_THRESHOLD_4ch).astype(np.int)\n",
    "#     pred[pred_clf==1, ] = 0\n",
    "#     if preds_test_clf is not None:\n",
    "#         pred[preds_test_clf.reshape(n*c, -1).squeeze()<best_threshold_CLF, ] = 0\n",
    "#     print('best_threshold_MASK: ', best_threshold_MASK)\n",
    "#     print('best_threshold_EMPTY: ', best_threshold_EMPTY)\n",
    "#     print('best_threshold_CLF: ', best_threshold_CLF)\n",
    "#     print('pred pos_ratio: ', (pred.sum(axis=1)>0).mean())\n",
    "#     print('pred mean pixel: ', pred.mean())\n",
    "    \n",
    "# summary_test_pred(preds_test, preds_test_clf, \n",
    "#                   best_threshold_MASK, best_threshold_EMPTY, best_threshold_CLF, use_sigmoid=(not ensemble))"
   ]
  },
  {
   "cell_type": "code",
   "execution_count": 24,
   "metadata": {},
   "outputs": [
    {
     "data": {
      "text/plain": [
       "95618"
      ]
     },
     "execution_count": 24,
     "metadata": {},
     "output_type": "execute_result"
    }
   ],
   "source": [
    "idx = 2\n",
    "ch = 0\n",
    "\n",
    "# check the correctness of transformation\n",
    "pred_mask = predict_mask(preds_test[idx][ch], best_threshold_EMPTY[ch], best_threshold_MASK[ch], \n",
    "                         best_threshold_CLF, preds_test_clf[idx][ch], use_sigmoid=(not ensemble))\n",
    "pred_mask.sum()"
   ]
  },
  {
   "cell_type": "code",
   "execution_count": 18,
   "metadata": {},
   "outputs": [
    {
     "data": {
      "text/plain": [
       "<matplotlib.image.AxesImage at 0x7faa13e6c898>"
      ]
     },
     "execution_count": 18,
     "metadata": {},
     "output_type": "execute_result"
    },
    {
     "data": {
      "image/png": "[encoded data removed]",
      "text/plain": [
       "<Figure size 432x288 with 1 Axes>"
      ]
     },
     "metadata": {
      "needs_background": "light"
     },
     "output_type": "display_data"
    }
   ],
   "source": [
    "plt.imshow(pred_mask)"
   ]
  },
  {
   "cell_type": "code",
   "execution_count": 25,
   "metadata": {},
   "outputs": [
    {
     "data": {
      "text/plain": [
       "0.39034613304488913"
      ]
     },
     "execution_count": 25,
     "metadata": {},
     "output_type": "execute_result"
    }
   ],
   "source": [
    "(sub_df.EncodedPixels!='').mean()"
   ]
  },
  {
   "cell_type": "code",
   "execution_count": 26,
   "metadata": {},
   "outputs": [],
   "source": [
    "# sub_df.to_csv('../submission/1115_deeplabv3plus_resnet_512x768_v13_seed2048-50-51.csv.gz', \n",
    "#               index=False, compression='gzip')\n",
    "\n",
    "# sub_df.to_csv('../submission/1116_fpn_resnet34_384x576_v1_seed2100-01-02-03-04.csv.gz', \n",
    "#               index=False, compression='gzip')\n",
    "\n",
    "sub_df.to_csv('../submission/1117_fpn_resnet34_576x768_v1_seed2150-51-52-53-54.csv.gz', \n",
    "              index=False, compression='gzip')\n",
    "\n",
    "# sub_df.to_csv('../submission/1115_unet_resnet34_512x768_v1_seed2060-61-62.csv.gz', \n",
    "#               index=False, compression='gzip')\n",
    "\n",
    "# sub_df.to_csv('../submission/1116_unet_resnet34_384x576_v1_seed2080-81-82-83-84.csv.gz', \n",
    "#               index=False, compression='gzip')\n",
    "\n",
    "# sub_df.to_csv('../submission/1116_pspnet_resnet34_512x768_v1_seed2070-71-72-73-74.csv.gz', \n",
    "#               index=False, compression='gzip')\n",
    "\n",
    "# sub_df.to_csv('../submission/1116_pspnet_resnet34_384x576_v1_seed2090-91-92-93-94.csv.gz', \n",
    "#               index=False, compression='gzip')"
   ]
  },
  {
   "cell_type": "code",
   "execution_count": 53,
   "metadata": {},
   "outputs": [],
   "source": [
    "# ### for ensemble\n",
    "# sub_df.to_csv('../submission/sigmoid_ensemble.csv.gz', index=False, compression='gzip')"
   ]
  },
  {
   "cell_type": "code",
   "execution_count": 105,
   "metadata": {},
   "outputs": [
    {
     "data": {
      "text/plain": [
       "0.5335376848178868"
      ]
     },
     "execution_count": 105,
     "metadata": {},
     "output_type": "execute_result"
    }
   ],
   "source": [
    "(pd.read_csv('../data/raw/train.csv').fillna('').EncodedPixels!='').mean()"
   ]
  },
  {
   "cell_type": "code",
   "execution_count": null,
   "metadata": {},
   "outputs": [],
   "source": [
    "#this is for remembering best thresholds of those already submitted solutions\n",
    "sub_df.to_csv('submission/del.csv.gz', index=False, compression='gzip')"
   ]
  },
  {
   "cell_type": "code",
   "execution_count": 34,
   "metadata": {
    "scrolled": true
   },
   "outputs": [
    {
     "data": {
      "text/plain": [
       "0.44503785830178477"
      ]
     },
     "execution_count": 34,
     "metadata": {},
     "output_type": "execute_result"
    }
   ],
   "source": [
    "sub_kaggler = pd.read_csv('../submission/kaggler0_submission_segmentation_and_classifier.csv').fillna('')\n",
    "(sub_kaggler.EncodedPixels!='').mean()"
   ]
  },
  {
   "cell_type": "code",
   "execution_count": null,
   "metadata": {},
   "outputs": [],
   "source": []
  },
  {
   "cell_type": "markdown",
   "metadata": {},
   "source": [
    "## maybe a leak\n",
    "every image has at least one label, force to predict non-empty-mask"
   ]
  },
  {
   "cell_type": "code",
   "execution_count": 4,
   "metadata": {},
   "outputs": [
    {
     "data": {
      "text/html": [
       "<div>\n",
       "<style scoped>\n",
       "    .dataframe tbody tr th:only-of-type {\n",
       "        vertical-align: middle;\n",
       "    }\n",
       "\n",
       "    .dataframe tbody tr th {\n",
       "        vertical-align: top;\n",
       "    }\n",
       "\n",
       "    .dataframe thead th {\n",
       "        text-align: right;\n",
       "    }\n",
       "</style>\n",
       "<table border=\"1\" class=\"dataframe\">\n",
       "  <thead>\n",
       "    <tr style=\"text-align: right;\">\n",
       "      <th></th>\n",
       "      <th>Image_Label</th>\n",
       "      <th>EncodedPixels</th>\n",
       "      <th>img_id</th>\n",
       "      <th>has_mask</th>\n",
       "    </tr>\n",
       "  </thead>\n",
       "  <tbody>\n",
       "    <tr>\n",
       "      <th>0</th>\n",
       "      <td>10055ff.jpg_Fish</td>\n",
       "      <td></td>\n",
       "      <td>10055ff</td>\n",
       "      <td>0</td>\n",
       "    </tr>\n",
       "    <tr>\n",
       "      <th>1</th>\n",
       "      <td>10055ff.jpg_Flower</td>\n",
       "      <td></td>\n",
       "      <td>10055ff</td>\n",
       "      <td>0</td>\n",
       "    </tr>\n",
       "    <tr>\n",
       "      <th>2</th>\n",
       "      <td>10055ff.jpg_Gravel</td>\n",
       "      <td>1217 45 1268 7 1560 2 1564 63 1899 3 1903 81 2...</td>\n",
       "      <td>10055ff</td>\n",
       "      <td>1</td>\n",
       "    </tr>\n",
       "  </tbody>\n",
       "</table>\n",
       "</div>"
      ],
      "text/plain": [
       "          Image_Label                                      EncodedPixels  \\\n",
       "0    10055ff.jpg_Fish                                                      \n",
       "1  10055ff.jpg_Flower                                                      \n",
       "2  10055ff.jpg_Gravel  1217 45 1268 7 1560 2 1564 63 1899 3 1903 81 2...   \n",
       "\n",
       "    img_id  has_mask  \n",
       "0  10055ff         0  \n",
       "1  10055ff         0  \n",
       "2  10055ff         1  "
      ]
     },
     "execution_count": 4,
     "metadata": {},
     "output_type": "execute_result"
    }
   ],
   "source": [
    "#sub_df = pd.read_csv('../submission/dirty_ensemble.csv.gz').fillna('')\n",
    "sub = copy.deepcopy(sub_df)\n",
    "\n",
    "sub['img_id'] = [name.split('.')[0] for name in sub.Image_Label]\n",
    "sub['has_mask'] = (sub.EncodedPixels!='').astype(np.int)\n",
    "sub.head(3)"
   ]
  },
  {
   "cell_type": "code",
   "execution_count": 5,
   "metadata": {},
   "outputs": [
    {
     "data": {
      "text/plain": [
       "2    1816\n",
       "1    1410\n",
       "3     404\n",
       "0      56\n",
       "4      12\n",
       "Name: sum, dtype: int64"
      ]
     },
     "execution_count": 5,
     "metadata": {},
     "output_type": "execute_result"
    }
   ],
   "source": [
    "agg = sub.groupby(['img_id'])['has_mask'].agg(['sum'])\n",
    "agg['sum'].value_counts()# / 3698"
   ]
  },
  {
   "cell_type": "code",
   "execution_count": 31,
   "metadata": {},
   "outputs": [
    {
     "data": {
      "application/vnd.jupyter.widget-view+json": {
       "model_id": "f0ac8850ba18419fa098a98cc67226e0",
       "version_major": 2,
       "version_minor": 0
      },
      "text/plain": [
       "HBox(children=(IntProgress(value=0, max=3698), HTML(value='')))"
      ]
     },
     "metadata": {},
     "output_type": "display_data"
    },
    {
     "name": "stdout",
     "output_type": "stream",
     "text": [
      "\n",
      "CPU times: user 13min 26s, sys: 25.1 s, total: 13min 51s\n",
      "Wall time: 50.4 s\n"
     ]
    }
   ],
   "source": [
    "%%time\n",
    "\n",
    "ensemble = False#True\n",
    "\n",
    "relaxed_threshold_EMPTY = 1\n",
    "\n",
    "#### Generate rle encodings\n",
    "rles = []\n",
    "for p in tqdm_notebook(preds_test):#p is logit from model\n",
    "    found = False\n",
    "    for ch in range(4):\n",
    "        pred_mask = predict_mask(p[ch], best_threshold_EMPTY[ch], best_threshold_MASK[ch], use_sigmoid=(not ensemble))#False ensemble\n",
    "        if pred_mask.sum()>0:#predicted non-empty mask\n",
    "            pred_mask = cv2.resize(pred_mask.astype('float32'), (525, 350))\n",
    "            pred_mask = (pred_mask>0.5).astype(np.uint8)\n",
    "            rles.append(mask2rle(pred_mask))\n",
    "            found = True\n",
    "        else:\n",
    "            rles.append('')\n",
    "    ##if predict 4-channel-all-empty\n",
    "    if not found:\n",
    "        pred_mask_4ch = []\n",
    "        pred_mask_sum = []\n",
    "        for ch in range(4):\n",
    "            pred_mask = predict_mask(p[ch], relaxed_threshold_EMPTY, best_threshold_MASK[ch], use_sigmoid=(not ensemble))#False ensemble\n",
    "            pred_mask_sum.append(pred_mask.sum())\n",
    "            pred_mask_4ch.append(pred_mask)\n",
    "        if np.sum(pred_mask_sum)==0:\n",
    "            continue\n",
    "        else:\n",
    "            ch_idx = np.argmax(pred_mask_sum)#pick the channel with maximum mask area\n",
    "            pred_mask = pred_mask_4ch[ch_idx]\n",
    "            ##replace empty mask with new mask\n",
    "            pred_mask = cv2.resize(pred_mask.astype('float32'), (525, 350))\n",
    "            pred_mask = (pred_mask>0.5).astype(np.uint8)\n",
    "            rles[-(4-ch_idx)] = mask2rle(pred_mask)\n"
   ]
  },
  {
   "cell_type": "code",
   "execution_count": 32,
   "metadata": {},
   "outputs": [
    {
     "name": "stdout",
     "output_type": "stream",
     "text": [
      "14792\n"
     ]
    }
   ],
   "source": [
    "img_id_ch = []\n",
    "for fname in test_fnames:\n",
    "    for name in ['Fish', 'Flower', 'Gravel', 'Sugar']:\n",
    "        img_id_ch.append(fname+'.jpg_%s'%name)\n",
    "\n",
    "sub_df = pd.DataFrame({'Image_Label': img_id_ch, 'EncodedPixels': rles})\n",
    "print(len(sub_df.index))"
   ]
  },
  {
   "cell_type": "code",
   "execution_count": 33,
   "metadata": {},
   "outputs": [
    {
     "data": {
      "text/plain": [
       "0.4398323418063818"
      ]
     },
     "execution_count": 33,
     "metadata": {},
     "output_type": "execute_result"
    }
   ],
   "source": [
    "(sub_df.EncodedPixels!='').mean()"
   ]
  },
  {
   "cell_type": "code",
   "execution_count": 34,
   "metadata": {},
   "outputs": [],
   "source": [
    "sub_df.to_csv('../submission/1109_deeplabv3plus_resnet_512x768_v10_seed2022-4ch-empty-fix.csv.gz', \n",
    "              index=False, compression='gzip')"
   ]
  },
  {
   "cell_type": "code",
   "execution_count": null,
   "metadata": {},
   "outputs": [],
   "source": []
  },
  {
   "cell_type": "code",
   "execution_count": null,
   "metadata": {},
   "outputs": [],
   "source": []
  }
 ],
 "metadata": {
  "kernelspec": {
   "display_name": "Python 3",
   "language": "python",
   "name": "python3"
  },
  "language_info": {
   "codemirror_mode": {
    "name": "ipython",
    "version": 3
   },
   "file_extension": ".py",
   "mimetype": "text/x-python",
   "name": "python",
   "nbconvert_exporter": "python",
   "pygments_lexer": "ipython3",
   "version": "3.7.3"
  }
 },
 "nbformat": 4,
 "nbformat_minor": 2
}
